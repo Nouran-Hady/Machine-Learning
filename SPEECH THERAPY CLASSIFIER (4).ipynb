{
 "cells": [
  {
   "cell_type": "code",
   "execution_count": 111,
   "id": "eb63119f",
   "metadata": {},
   "outputs": [],
   "source": [
    "# Necessary imports\n",
    "import numpy as np\n",
    "import pandas as pd\n",
    "import matplotlib.pyplot as plt\n",
    "import seaborn as sb\n",
    "import seaborn as sns\n",
    "from matplotlib import rcParams\n",
    "import random\n",
    "%matplotlib inline"
   ]
  },
  {
   "cell_type": "code",
   "execution_count": 112,
   "id": "80cce41e",
   "metadata": {},
   "outputs": [
    {
     "name": "stdout",
     "output_type": "stream",
     "text": [
      "(504, 34)\n"
     ]
    },
    {
     "data": {
      "text/html": [
       "<div>\n",
       "<style scoped>\n",
       "    .dataframe tbody tr th:only-of-type {\n",
       "        vertical-align: middle;\n",
       "    }\n",
       "\n",
       "    .dataframe tbody tr th {\n",
       "        vertical-align: top;\n",
       "    }\n",
       "\n",
       "    .dataframe thead th {\n",
       "        text-align: right;\n",
       "    }\n",
       "</style>\n",
       "<table border=\"1\" class=\"dataframe\">\n",
       "  <thead>\n",
       "    <tr style=\"text-align: right;\">\n",
       "      <th></th>\n",
       "      <th>name</th>\n",
       "      <th>gender</th>\n",
       "      <th>age</th>\n",
       "      <th>diagnosis</th>\n",
       "      <th>sitting</th>\n",
       "      <th>walking</th>\n",
       "      <th>bablleing</th>\n",
       "      <th>being able to figure things and people</th>\n",
       "      <th>Merge two voices together</th>\n",
       "      <th>first word</th>\n",
       "      <th>...</th>\n",
       "      <th>moody</th>\n",
       "      <th>boored</th>\n",
       "      <th>aggressive</th>\n",
       "      <th>over asking</th>\n",
       "      <th>entrovert</th>\n",
       "      <th>hyperactive</th>\n",
       "      <th>Impulsive</th>\n",
       "      <th>nervous</th>\n",
       "      <th>Dependent</th>\n",
       "      <th>repetition and elongation</th>\n",
       "    </tr>\n",
       "  </thead>\n",
       "  <tbody>\n",
       "    <tr>\n",
       "      <th>0</th>\n",
       "      <td>Islam Skitino</td>\n",
       "      <td>male</td>\n",
       "      <td>4.6</td>\n",
       "      <td>Problem Behavior</td>\n",
       "      <td>1.0</td>\n",
       "      <td>1.0</td>\n",
       "      <td>1.0</td>\n",
       "      <td>1.0</td>\n",
       "      <td>1.0</td>\n",
       "      <td>1.0</td>\n",
       "      <td>...</td>\n",
       "      <td>0.0</td>\n",
       "      <td>1.0</td>\n",
       "      <td>1.0</td>\n",
       "      <td>1.0</td>\n",
       "      <td>0.0</td>\n",
       "      <td>1.0</td>\n",
       "      <td>1.0</td>\n",
       "      <td>1.0</td>\n",
       "      <td>1.0</td>\n",
       "      <td>0.0</td>\n",
       "    </tr>\n",
       "    <tr>\n",
       "      <th>1</th>\n",
       "      <td>Rodina Ayman Mamdouh</td>\n",
       "      <td>male</td>\n",
       "      <td>3.0</td>\n",
       "      <td>ASD</td>\n",
       "      <td>1.0</td>\n",
       "      <td>1.0</td>\n",
       "      <td>1.0</td>\n",
       "      <td>0.0</td>\n",
       "      <td>0.0</td>\n",
       "      <td>0.0</td>\n",
       "      <td>...</td>\n",
       "      <td>1.0</td>\n",
       "      <td>1.0</td>\n",
       "      <td>0.0</td>\n",
       "      <td>0.0</td>\n",
       "      <td>1.0</td>\n",
       "      <td>0.0</td>\n",
       "      <td>0.0</td>\n",
       "      <td>0.0</td>\n",
       "      <td>0.0</td>\n",
       "      <td>0.0</td>\n",
       "    </tr>\n",
       "    <tr>\n",
       "      <th>2</th>\n",
       "      <td>Abdul Rahman Saeed Muhammad</td>\n",
       "      <td>female</td>\n",
       "      <td>4.0</td>\n",
       "      <td>Stuttering</td>\n",
       "      <td>1.0</td>\n",
       "      <td>1.0</td>\n",
       "      <td>1.0</td>\n",
       "      <td>1.0</td>\n",
       "      <td>1.0</td>\n",
       "      <td>1.0</td>\n",
       "      <td>...</td>\n",
       "      <td>0.0</td>\n",
       "      <td>0.0</td>\n",
       "      <td>0.0</td>\n",
       "      <td>0.0</td>\n",
       "      <td>0.0</td>\n",
       "      <td>0.0</td>\n",
       "      <td>0.0</td>\n",
       "      <td>0.0</td>\n",
       "      <td>0.0</td>\n",
       "      <td>1.0</td>\n",
       "    </tr>\n",
       "    <tr>\n",
       "      <th>3</th>\n",
       "      <td>Mohamed Ahmed Abdel Mohsen</td>\n",
       "      <td>male</td>\n",
       "      <td>9.0</td>\n",
       "      <td>DLD</td>\n",
       "      <td>1.0</td>\n",
       "      <td>1.0</td>\n",
       "      <td>1.0</td>\n",
       "      <td>1.0</td>\n",
       "      <td>1.0</td>\n",
       "      <td>0.0</td>\n",
       "      <td>...</td>\n",
       "      <td>0.0</td>\n",
       "      <td>1.0</td>\n",
       "      <td>0.0</td>\n",
       "      <td>1.0</td>\n",
       "      <td>0.0</td>\n",
       "      <td>0.0</td>\n",
       "      <td>0.0</td>\n",
       "      <td>1.0</td>\n",
       "      <td>0.0</td>\n",
       "      <td>0.0</td>\n",
       "    </tr>\n",
       "    <tr>\n",
       "      <th>4</th>\n",
       "      <td>Yasser Hatem Al-Akkad</td>\n",
       "      <td>male</td>\n",
       "      <td>4.0</td>\n",
       "      <td>Stuttering</td>\n",
       "      <td>1.0</td>\n",
       "      <td>1.0</td>\n",
       "      <td>1.0</td>\n",
       "      <td>1.0</td>\n",
       "      <td>1.0</td>\n",
       "      <td>1.0</td>\n",
       "      <td>...</td>\n",
       "      <td>0.0</td>\n",
       "      <td>0.0</td>\n",
       "      <td>0.0</td>\n",
       "      <td>0.0</td>\n",
       "      <td>0.0</td>\n",
       "      <td>0.0</td>\n",
       "      <td>0.0</td>\n",
       "      <td>0.0</td>\n",
       "      <td>0.0</td>\n",
       "      <td>1.0</td>\n",
       "    </tr>\n",
       "    <tr>\n",
       "      <th>5</th>\n",
       "      <td>Problem Behavior</td>\n",
       "      <td>female</td>\n",
       "      <td>8.0</td>\n",
       "      <td>Problem Behavior</td>\n",
       "      <td>1.0</td>\n",
       "      <td>1.0</td>\n",
       "      <td>1.0</td>\n",
       "      <td>1.0</td>\n",
       "      <td>1.0</td>\n",
       "      <td>1.0</td>\n",
       "      <td>...</td>\n",
       "      <td>1.0</td>\n",
       "      <td>1.0</td>\n",
       "      <td>1.0</td>\n",
       "      <td>1.0</td>\n",
       "      <td>1.0</td>\n",
       "      <td>0.0</td>\n",
       "      <td>0.0</td>\n",
       "      <td>0.0</td>\n",
       "      <td>0.0</td>\n",
       "      <td>0.0</td>\n",
       "    </tr>\n",
       "    <tr>\n",
       "      <th>6</th>\n",
       "      <td>Iyad Khaled Al-Desouki</td>\n",
       "      <td>male</td>\n",
       "      <td>2.8</td>\n",
       "      <td>PROBLEM IN ARTICULATION</td>\n",
       "      <td>1.0</td>\n",
       "      <td>0.0</td>\n",
       "      <td>0.0</td>\n",
       "      <td>0.0</td>\n",
       "      <td>0.0</td>\n",
       "      <td>1.0</td>\n",
       "      <td>...</td>\n",
       "      <td>0.0</td>\n",
       "      <td>0.0</td>\n",
       "      <td>0.0</td>\n",
       "      <td>0.0</td>\n",
       "      <td>0.0</td>\n",
       "      <td>0.0</td>\n",
       "      <td>0.0</td>\n",
       "      <td>0.0</td>\n",
       "      <td>0.0</td>\n",
       "      <td>0.0</td>\n",
       "    </tr>\n",
       "    <tr>\n",
       "      <th>7</th>\n",
       "      <td>Adham Walid Muhammad</td>\n",
       "      <td>male</td>\n",
       "      <td>4.0</td>\n",
       "      <td>Stuttering</td>\n",
       "      <td>1.0</td>\n",
       "      <td>1.0</td>\n",
       "      <td>1.0</td>\n",
       "      <td>1.0</td>\n",
       "      <td>1.0</td>\n",
       "      <td>1.0</td>\n",
       "      <td>...</td>\n",
       "      <td>0.0</td>\n",
       "      <td>0.0</td>\n",
       "      <td>0.0</td>\n",
       "      <td>0.0</td>\n",
       "      <td>0.0</td>\n",
       "      <td>0.0</td>\n",
       "      <td>0.0</td>\n",
       "      <td>0.0</td>\n",
       "      <td>0.0</td>\n",
       "      <td>1.0</td>\n",
       "    </tr>\n",
       "    <tr>\n",
       "      <th>8</th>\n",
       "      <td>Dina Mohieldin Abdel-Wahhab</td>\n",
       "      <td>female</td>\n",
       "      <td>3.0</td>\n",
       "      <td>ASD</td>\n",
       "      <td>1.0</td>\n",
       "      <td>1.0</td>\n",
       "      <td>1.0</td>\n",
       "      <td>0.0</td>\n",
       "      <td>0.0</td>\n",
       "      <td>0.0</td>\n",
       "      <td>...</td>\n",
       "      <td>1.0</td>\n",
       "      <td>1.0</td>\n",
       "      <td>0.0</td>\n",
       "      <td>0.0</td>\n",
       "      <td>1.0</td>\n",
       "      <td>0.0</td>\n",
       "      <td>0.0</td>\n",
       "      <td>0.0</td>\n",
       "      <td>0.0</td>\n",
       "      <td>0.0</td>\n",
       "    </tr>\n",
       "    <tr>\n",
       "      <th>9</th>\n",
       "      <td>Rushdie Alaa Rushdie</td>\n",
       "      <td>male</td>\n",
       "      <td>2.8</td>\n",
       "      <td>PROBLEM IN ARTICULATION</td>\n",
       "      <td>1.0</td>\n",
       "      <td>0.0</td>\n",
       "      <td>0.0</td>\n",
       "      <td>0.0</td>\n",
       "      <td>0.0</td>\n",
       "      <td>1.0</td>\n",
       "      <td>...</td>\n",
       "      <td>0.0</td>\n",
       "      <td>0.0</td>\n",
       "      <td>0.0</td>\n",
       "      <td>0.0</td>\n",
       "      <td>0.0</td>\n",
       "      <td>0.0</td>\n",
       "      <td>0.0</td>\n",
       "      <td>0.0</td>\n",
       "      <td>0.0</td>\n",
       "      <td>0.0</td>\n",
       "    </tr>\n",
       "  </tbody>\n",
       "</table>\n",
       "<p>10 rows × 34 columns</p>\n",
       "</div>"
      ],
      "text/plain": [
       "                          name   gender  age                diagnosis  \\\n",
       "0                 Islam Skitino    male  4.6         Problem Behavior   \n",
       "1          Rodina Ayman Mamdouh    male  3.0                      ASD   \n",
       "2   Abdul Rahman Saeed Muhammad  female  4.0               Stuttering   \n",
       "3    Mohamed Ahmed Abdel Mohsen    male  9.0                      DLD   \n",
       "4         Yasser Hatem Al-Akkad    male  4.0               Stuttering   \n",
       "5              Problem Behavior  female  8.0         Problem Behavior   \n",
       "6        Iyad Khaled Al-Desouki    male  2.8  PROBLEM IN ARTICULATION   \n",
       "7          Adham Walid Muhammad    male  4.0               Stuttering   \n",
       "8   Dina Mohieldin Abdel-Wahhab  female  3.0                      ASD   \n",
       "9          Rushdie Alaa Rushdie    male  2.8  PROBLEM IN ARTICULATION   \n",
       "\n",
       "   sitting  walking  bablleing  being able to figure things and people  \\\n",
       "0      1.0      1.0        1.0                                     1.0   \n",
       "1      1.0      1.0        1.0                                     0.0   \n",
       "2      1.0      1.0        1.0                                     1.0   \n",
       "3      1.0      1.0        1.0                                     1.0   \n",
       "4      1.0      1.0        1.0                                     1.0   \n",
       "5      1.0      1.0        1.0                                     1.0   \n",
       "6      1.0      0.0        0.0                                     0.0   \n",
       "7      1.0      1.0        1.0                                     1.0   \n",
       "8      1.0      1.0        1.0                                     0.0   \n",
       "9      1.0      0.0        0.0                                     0.0   \n",
       "\n",
       "   Merge two voices together  first word  ...  moody  boored  aggressive  \\\n",
       "0                        1.0         1.0  ...    0.0     1.0         1.0   \n",
       "1                        0.0         0.0  ...    1.0     1.0         0.0   \n",
       "2                        1.0         1.0  ...    0.0     0.0         0.0   \n",
       "3                        1.0         0.0  ...    0.0     1.0         0.0   \n",
       "4                        1.0         1.0  ...    0.0     0.0         0.0   \n",
       "5                        1.0         1.0  ...    1.0     1.0         1.0   \n",
       "6                        0.0         1.0  ...    0.0     0.0         0.0   \n",
       "7                        1.0         1.0  ...    0.0     0.0         0.0   \n",
       "8                        0.0         0.0  ...    1.0     1.0         0.0   \n",
       "9                        0.0         1.0  ...    0.0     0.0         0.0   \n",
       "\n",
       "   over asking  entrovert  hyperactive  Impulsive  nervous  Dependent  \\\n",
       "0          1.0        0.0          1.0        1.0      1.0        1.0   \n",
       "1          0.0        1.0          0.0        0.0      0.0        0.0   \n",
       "2          0.0        0.0          0.0        0.0      0.0        0.0   \n",
       "3          1.0        0.0          0.0        0.0      1.0        0.0   \n",
       "4          0.0        0.0          0.0        0.0      0.0        0.0   \n",
       "5          1.0        1.0          0.0        0.0      0.0        0.0   \n",
       "6          0.0        0.0          0.0        0.0      0.0        0.0   \n",
       "7          0.0        0.0          0.0        0.0      0.0        0.0   \n",
       "8          0.0        1.0          0.0        0.0      0.0        0.0   \n",
       "9          0.0        0.0          0.0        0.0      0.0        0.0   \n",
       "\n",
       "   repetition and elongation  \n",
       "0                        0.0  \n",
       "1                        0.0  \n",
       "2                        1.0  \n",
       "3                        0.0  \n",
       "4                        1.0  \n",
       "5                        0.0  \n",
       "6                        0.0  \n",
       "7                        1.0  \n",
       "8                        0.0  \n",
       "9                        0.0  \n",
       "\n",
       "[10 rows x 34 columns]"
      ]
     },
     "execution_count": 112,
     "metadata": {},
     "output_type": "execute_result"
    }
   ],
   "source": [
    "# Read the csv file, and check its top 10 rows\n",
    "df = pd.read_csv(\"C:\\\\Users\\\\yahia\\\\Dropbox\\\\My PC (LAPTOP-SBP9RMKH)\\\\Downloads\\\\speach terapy1.csv\")\n",
    "df = df[0:504]\n",
    "print(df.shape)\n",
    "df.head(10)"
   ]
  },
  {
   "cell_type": "code",
   "execution_count": 113,
   "id": "2e8b8b18",
   "metadata": {
    "scrolled": true
   },
   "outputs": [
    {
     "name": "stdout",
     "output_type": "stream",
     "text": [
      "name                                       1\n",
      "gender                                     0\n",
      "age                                        0\n",
      "diagnosis                                  0\n",
      "sitting                                    0\n",
      "walking                                    0\n",
      "bablleing                                  0\n",
      "being able to figure things and people     0\n",
      "Merge two voices together                  1\n",
      "first word                                 0\n",
      "simple words                               1\n",
      "potty trained                              1\n",
      "no body language and signals               1\n",
      "Sounds and syllables                       1\n",
      "understanded words                         1\n",
      "words from 2:4 letters                     1\n",
      "words with more than 4 letters             1\n",
      "Uses formulas and verbal links             1\n",
      "attention disorder                         0\n",
      "stuborn                                    1\n",
      "bad behavior                               1\n",
      "bad words                                  1\n",
      "no eye contact                             3\n",
      "put things in mouth                        1\n",
      "moody                                      1\n",
      "boored                                     1\n",
      "aggressive                                 3\n",
      "over asking                                1\n",
      "entrovert                                  1\n",
      "hyperactive                               11\n",
      "Impulsive                                 13\n",
      "nervous                                   13\n",
      "Dependent                                 14\n",
      "repetition and elongation                 10\n",
      "dtype: int64\n"
     ]
    }
   ],
   "source": [
    "print(df.isnull().sum())"
   ]
  },
  {
   "cell_type": "code",
   "execution_count": 114,
   "id": "069e5fd5",
   "metadata": {},
   "outputs": [
    {
     "data": {
      "text/html": [
       "<div>\n",
       "<style scoped>\n",
       "    .dataframe tbody tr th:only-of-type {\n",
       "        vertical-align: middle;\n",
       "    }\n",
       "\n",
       "    .dataframe tbody tr th {\n",
       "        vertical-align: top;\n",
       "    }\n",
       "\n",
       "    .dataframe thead th {\n",
       "        text-align: right;\n",
       "    }\n",
       "</style>\n",
       "<table border=\"1\" class=\"dataframe\">\n",
       "  <thead>\n",
       "    <tr style=\"text-align: right;\">\n",
       "      <th></th>\n",
       "      <th>name</th>\n",
       "      <th>gender</th>\n",
       "      <th>age</th>\n",
       "      <th>diagnosis</th>\n",
       "      <th>sitting</th>\n",
       "      <th>walking</th>\n",
       "      <th>bablleing</th>\n",
       "      <th>being able to figure things and people</th>\n",
       "      <th>Merge two voices together</th>\n",
       "      <th>first word</th>\n",
       "      <th>...</th>\n",
       "      <th>moody</th>\n",
       "      <th>boored</th>\n",
       "      <th>aggressive</th>\n",
       "      <th>over asking</th>\n",
       "      <th>entrovert</th>\n",
       "      <th>hyperactive</th>\n",
       "      <th>Impulsive</th>\n",
       "      <th>nervous</th>\n",
       "      <th>Dependent</th>\n",
       "      <th>repetition and elongation</th>\n",
       "    </tr>\n",
       "  </thead>\n",
       "  <tbody>\n",
       "    <tr>\n",
       "      <th>0</th>\n",
       "      <td>Islam Skitino</td>\n",
       "      <td>male</td>\n",
       "      <td>4.6</td>\n",
       "      <td>Problem Behavior</td>\n",
       "      <td>1.0</td>\n",
       "      <td>1.0</td>\n",
       "      <td>1.0</td>\n",
       "      <td>1.0</td>\n",
       "      <td>1.0</td>\n",
       "      <td>1.0</td>\n",
       "      <td>...</td>\n",
       "      <td>0.0</td>\n",
       "      <td>1.0</td>\n",
       "      <td>1.0</td>\n",
       "      <td>1.0</td>\n",
       "      <td>0.0</td>\n",
       "      <td>1.0</td>\n",
       "      <td>1.0</td>\n",
       "      <td>1.0</td>\n",
       "      <td>1.0</td>\n",
       "      <td>0.0</td>\n",
       "    </tr>\n",
       "    <tr>\n",
       "      <th>1</th>\n",
       "      <td>Rodina Ayman Mamdouh</td>\n",
       "      <td>male</td>\n",
       "      <td>3.0</td>\n",
       "      <td>ASD</td>\n",
       "      <td>1.0</td>\n",
       "      <td>1.0</td>\n",
       "      <td>1.0</td>\n",
       "      <td>0.0</td>\n",
       "      <td>0.0</td>\n",
       "      <td>0.0</td>\n",
       "      <td>...</td>\n",
       "      <td>1.0</td>\n",
       "      <td>1.0</td>\n",
       "      <td>0.0</td>\n",
       "      <td>0.0</td>\n",
       "      <td>1.0</td>\n",
       "      <td>0.0</td>\n",
       "      <td>0.0</td>\n",
       "      <td>0.0</td>\n",
       "      <td>0.0</td>\n",
       "      <td>0.0</td>\n",
       "    </tr>\n",
       "    <tr>\n",
       "      <th>2</th>\n",
       "      <td>Abdul Rahman Saeed Muhammad</td>\n",
       "      <td>female</td>\n",
       "      <td>4.0</td>\n",
       "      <td>Stuttering</td>\n",
       "      <td>1.0</td>\n",
       "      <td>1.0</td>\n",
       "      <td>1.0</td>\n",
       "      <td>1.0</td>\n",
       "      <td>1.0</td>\n",
       "      <td>1.0</td>\n",
       "      <td>...</td>\n",
       "      <td>0.0</td>\n",
       "      <td>0.0</td>\n",
       "      <td>0.0</td>\n",
       "      <td>0.0</td>\n",
       "      <td>0.0</td>\n",
       "      <td>0.0</td>\n",
       "      <td>0.0</td>\n",
       "      <td>0.0</td>\n",
       "      <td>0.0</td>\n",
       "      <td>1.0</td>\n",
       "    </tr>\n",
       "    <tr>\n",
       "      <th>3</th>\n",
       "      <td>Mohamed Ahmed Abdel Mohsen</td>\n",
       "      <td>male</td>\n",
       "      <td>9.0</td>\n",
       "      <td>DLD</td>\n",
       "      <td>1.0</td>\n",
       "      <td>1.0</td>\n",
       "      <td>1.0</td>\n",
       "      <td>1.0</td>\n",
       "      <td>1.0</td>\n",
       "      <td>0.0</td>\n",
       "      <td>...</td>\n",
       "      <td>0.0</td>\n",
       "      <td>1.0</td>\n",
       "      <td>0.0</td>\n",
       "      <td>1.0</td>\n",
       "      <td>0.0</td>\n",
       "      <td>0.0</td>\n",
       "      <td>0.0</td>\n",
       "      <td>1.0</td>\n",
       "      <td>0.0</td>\n",
       "      <td>0.0</td>\n",
       "    </tr>\n",
       "    <tr>\n",
       "      <th>4</th>\n",
       "      <td>Yasser Hatem Al-Akkad</td>\n",
       "      <td>male</td>\n",
       "      <td>4.0</td>\n",
       "      <td>Stuttering</td>\n",
       "      <td>1.0</td>\n",
       "      <td>1.0</td>\n",
       "      <td>1.0</td>\n",
       "      <td>1.0</td>\n",
       "      <td>1.0</td>\n",
       "      <td>1.0</td>\n",
       "      <td>...</td>\n",
       "      <td>0.0</td>\n",
       "      <td>0.0</td>\n",
       "      <td>0.0</td>\n",
       "      <td>0.0</td>\n",
       "      <td>0.0</td>\n",
       "      <td>0.0</td>\n",
       "      <td>0.0</td>\n",
       "      <td>0.0</td>\n",
       "      <td>0.0</td>\n",
       "      <td>1.0</td>\n",
       "    </tr>\n",
       "  </tbody>\n",
       "</table>\n",
       "<p>5 rows × 34 columns</p>\n",
       "</div>"
      ],
      "text/plain": [
       "                         name   gender  age         diagnosis  sitting  \\\n",
       "0                Islam Skitino    male  4.6  Problem Behavior      1.0   \n",
       "1         Rodina Ayman Mamdouh    male  3.0               ASD      1.0   \n",
       "2  Abdul Rahman Saeed Muhammad  female  4.0        Stuttering      1.0   \n",
       "3   Mohamed Ahmed Abdel Mohsen    male  9.0               DLD      1.0   \n",
       "4        Yasser Hatem Al-Akkad    male  4.0        Stuttering      1.0   \n",
       "\n",
       "   walking  bablleing  being able to figure things and people  \\\n",
       "0      1.0        1.0                                     1.0   \n",
       "1      1.0        1.0                                     0.0   \n",
       "2      1.0        1.0                                     1.0   \n",
       "3      1.0        1.0                                     1.0   \n",
       "4      1.0        1.0                                     1.0   \n",
       "\n",
       "   Merge two voices together  first word  ...  moody  boored  aggressive  \\\n",
       "0                        1.0         1.0  ...    0.0     1.0         1.0   \n",
       "1                        0.0         0.0  ...    1.0     1.0         0.0   \n",
       "2                        1.0         1.0  ...    0.0     0.0         0.0   \n",
       "3                        1.0         0.0  ...    0.0     1.0         0.0   \n",
       "4                        1.0         1.0  ...    0.0     0.0         0.0   \n",
       "\n",
       "   over asking  entrovert  hyperactive  Impulsive  nervous  Dependent  \\\n",
       "0          1.0        0.0          1.0        1.0      1.0        1.0   \n",
       "1          0.0        1.0          0.0        0.0      0.0        0.0   \n",
       "2          0.0        0.0          0.0        0.0      0.0        0.0   \n",
       "3          1.0        0.0          0.0        0.0      1.0        0.0   \n",
       "4          0.0        0.0          0.0        0.0      0.0        0.0   \n",
       "\n",
       "   repetition and elongation  \n",
       "0                        0.0  \n",
       "1                        0.0  \n",
       "2                        1.0  \n",
       "3                        0.0  \n",
       "4                        1.0  \n",
       "\n",
       "[5 rows x 34 columns]"
      ]
     },
     "execution_count": 114,
     "metadata": {},
     "output_type": "execute_result"
    }
   ],
   "source": [
    "df.head()"
   ]
  },
  {
   "cell_type": "code",
   "execution_count": 115,
   "id": "f0551817",
   "metadata": {},
   "outputs": [
    {
     "data": {
      "text/plain": [
       "array(['Problem Behavior', 'ASD', 'Stuttering', 'DLD',\n",
       "       'PROBLEM IN ARTICULATION', 'H.H', 'Stuttering Problem Behavior',\n",
       "       'PROBLEM IN ARTICULATION ', 'MR', 'ADHD', 'hyperactire', 'Autizm',\n",
       "       'Echollia', 'DLD-MR', 'Bad behauior', 'Hyperactive'], dtype=object)"
      ]
     },
     "execution_count": 115,
     "metadata": {},
     "output_type": "execute_result"
    }
   ],
   "source": [
    "df['diagnosis'].unique()"
   ]
  },
  {
   "cell_type": "code",
   "execution_count": 116,
   "id": "e0c359b2",
   "metadata": {},
   "outputs": [
    {
     "name": "stderr",
     "output_type": "stream",
     "text": [
      "<ipython-input-116-3f424c6c6ac6>:5: SettingWithCopyWarning: \n",
      "A value is trying to be set on a copy of a slice from a DataFrame\n",
      "\n",
      "See the caveats in the documentation: https://pandas.pydata.org/pandas-docs/stable/user_guide/indexing.html#returning-a-view-versus-a-copy\n",
      "  df['diagnosis'][i] = \"Hyperactive\"\n",
      "<ipython-input-116-3f424c6c6ac6>:7: SettingWithCopyWarning: \n",
      "A value is trying to be set on a copy of a slice from a DataFrame\n",
      "\n",
      "See the caveats in the documentation: https://pandas.pydata.org/pandas-docs/stable/user_guide/indexing.html#returning-a-view-versus-a-copy\n",
      "  df['diagnosis'][i] = \"PROBLEM IN ARTICULATION\"\n",
      "<ipython-input-116-3f424c6c6ac6>:3: SettingWithCopyWarning: \n",
      "A value is trying to be set on a copy of a slice from a DataFrame\n",
      "\n",
      "See the caveats in the documentation: https://pandas.pydata.org/pandas-docs/stable/user_guide/indexing.html#returning-a-view-versus-a-copy\n",
      "  df['diagnosis'][i] = \"Problem Behavior\"\n"
     ]
    }
   ],
   "source": [
    "for i in range (0,501,1):\n",
    "    if df['diagnosis'][i] == \"Bad behauior\":\n",
    "        df['diagnosis'][i] = \"Problem Behavior\"\n",
    "    if df['diagnosis'][i] == \"hyperactire\":\n",
    "        df['diagnosis'][i] = \"Hyperactive\"\n",
    "    if df['diagnosis'][i] == \"PROBLEM IN ARTICULATION \":\n",
    "        df['diagnosis'][i] = \"PROBLEM IN ARTICULATION\"\n",
    "          "
   ]
  },
  {
   "cell_type": "code",
   "execution_count": 117,
   "id": "b50bbad8",
   "metadata": {},
   "outputs": [
    {
     "data": {
      "text/plain": [
       "array(['Problem Behavior', 'ASD', 'Stuttering', 'DLD',\n",
       "       'PROBLEM IN ARTICULATION', 'H.H', 'Stuttering Problem Behavior',\n",
       "       'MR', 'ADHD', 'Hyperactive', 'Autizm', 'Echollia', 'DLD-MR'],\n",
       "      dtype=object)"
      ]
     },
     "execution_count": 117,
     "metadata": {},
     "output_type": "execute_result"
    }
   ],
   "source": [
    "df['diagnosis'].unique()"
   ]
  },
  {
   "cell_type": "code",
   "execution_count": 118,
   "id": "92222e41",
   "metadata": {},
   "outputs": [
    {
     "data": {
      "text/plain": [
       "DLD                            116\n",
       "Stuttering                      78\n",
       "ADHD                            59\n",
       "Problem Behavior                57\n",
       "PROBLEM IN ARTICULATION         50\n",
       "Autizm                          42\n",
       "Hyperactive                     32\n",
       "H.H                             16\n",
       "MR                              14\n",
       "DLD-MR                          13\n",
       "Echollia                        12\n",
       "ASD                             12\n",
       "Stuttering Problem Behavior      3\n",
       "Name: diagnosis, dtype: int64"
      ]
     },
     "execution_count": 118,
     "metadata": {},
     "output_type": "execute_result"
    }
   ],
   "source": [
    "df['diagnosis'].value_counts()"
   ]
  },
  {
   "cell_type": "code",
   "execution_count": 119,
   "id": "8aa2ae81",
   "metadata": {},
   "outputs": [
    {
     "name": "stderr",
     "output_type": "stream",
     "text": [
      "<ipython-input-119-bd58ffdc969e>:3: SettingWithCopyWarning: \n",
      "A value is trying to be set on a copy of a slice from a DataFrame\n",
      "\n",
      "See the caveats in the documentation: https://pandas.pydata.org/pandas-docs/stable/user_guide/indexing.html#returning-a-view-versus-a-copy\n",
      "  df['diagnosis'][i] = \"Autizm\"\n",
      "<ipython-input-119-bd58ffdc969e>:15: SettingWithCopyWarning: \n",
      "A value is trying to be set on a copy of a slice from a DataFrame\n",
      "\n",
      "See the caveats in the documentation: https://pandas.pydata.org/pandas-docs/stable/user_guide/indexing.html#returning-a-view-versus-a-copy\n",
      "  df['diagnosis'][i] = \"DLD\"\n",
      "<ipython-input-119-bd58ffdc969e>:7: SettingWithCopyWarning: \n",
      "A value is trying to be set on a copy of a slice from a DataFrame\n",
      "\n",
      "See the caveats in the documentation: https://pandas.pydata.org/pandas-docs/stable/user_guide/indexing.html#returning-a-view-versus-a-copy\n",
      "  df['diagnosis'][i] = \"Problem Behavior\"\n",
      "<ipython-input-119-bd58ffdc969e>:5: SettingWithCopyWarning: \n",
      "A value is trying to be set on a copy of a slice from a DataFrame\n",
      "\n",
      "See the caveats in the documentation: https://pandas.pydata.org/pandas-docs/stable/user_guide/indexing.html#returning-a-view-versus-a-copy\n",
      "  df['diagnosis'][i] = \"DLD\"\n",
      "<ipython-input-119-bd58ffdc969e>:13: SettingWithCopyWarning: \n",
      "A value is trying to be set on a copy of a slice from a DataFrame\n",
      "\n",
      "See the caveats in the documentation: https://pandas.pydata.org/pandas-docs/stable/user_guide/indexing.html#returning-a-view-versus-a-copy\n",
      "  df['diagnosis'][i] = \"MR\"\n"
     ]
    }
   ],
   "source": [
    "for i in range (0,501,1):\n",
    "    if df['diagnosis'][i] == \"ASD\":\n",
    "        df['diagnosis'][i] = \"Autizm\"\n",
    "    if df['diagnosis'][i] == \"Echollia\":\n",
    "        df['diagnosis'][i] = \"DLD\"\n",
    "    if df['diagnosis'][i] == \"Stuttering Problem Behavior\":\n",
    "        df['diagnosis'][i] = \"Problem Behavior\"\n",
    "    if df['diagnosis'][i] == \"Echollia\":\n",
    "        df['diagnosis'][i] = \"DLD\"   \n",
    "    if df['diagnosis'][i] == \"ASD\":\n",
    "        df['diagnosis'][i] = \"Autizm\"   \n",
    "    if df['diagnosis'][i] == \"DLD-MR\":\n",
    "        df['diagnosis'][i] = \"MR\"\n",
    "    if df['diagnosis'][i] == \"H.H\":\n",
    "        df['diagnosis'][i] = \"DLD\""
   ]
  },
  {
   "cell_type": "code",
   "execution_count": 120,
   "id": "f04d8b7d",
   "metadata": {},
   "outputs": [],
   "source": [
    "df.drop(columns=[\"name \"],inplace=True)"
   ]
  },
  {
   "cell_type": "code",
   "execution_count": 121,
   "id": "8d535de3",
   "metadata": {},
   "outputs": [
    {
     "data": {
      "text/plain": [
       "DLD                        144\n",
       "Stuttering                  78\n",
       "Problem Behavior            60\n",
       "ADHD                        59\n",
       "Autizm                      54\n",
       "PROBLEM IN ARTICULATION     50\n",
       "Hyperactive                 32\n",
       "MR                          27\n",
       "Name: diagnosis, dtype: int64"
      ]
     },
     "execution_count": 121,
     "metadata": {},
     "output_type": "execute_result"
    }
   ],
   "source": [
    "df['diagnosis'].value_counts()"
   ]
  },
  {
   "cell_type": "code",
   "execution_count": 122,
   "id": "4296a382",
   "metadata": {},
   "outputs": [
    {
     "data": {
      "text/plain": [
       "(504, 33)"
      ]
     },
     "execution_count": 122,
     "metadata": {},
     "output_type": "execute_result"
    }
   ],
   "source": [
    "df.shape"
   ]
  },
  {
   "cell_type": "code",
   "execution_count": 123,
   "id": "c84e1104",
   "metadata": {},
   "outputs": [
    {
     "data": {
      "text/plain": [
       "16632"
      ]
     },
     "execution_count": 123,
     "metadata": {},
     "output_type": "execute_result"
    }
   ],
   "source": [
    "df.size"
   ]
  },
  {
   "cell_type": "code",
   "execution_count": 124,
   "id": "0d014943",
   "metadata": {},
   "outputs": [
    {
     "data": {
      "text/plain": [
       "Index(['gender', 'age', 'diagnosis', 'sitting', 'walking', 'bablleing',\n",
       "       'being able to figure things and people', 'Merge two voices together',\n",
       "       'first word', 'simple words', 'potty trained',\n",
       "       'no body language and signals', 'Sounds and syllables',\n",
       "       'understanded words', 'words from 2:4 letters',\n",
       "       'words with more than 4 letters', 'Uses formulas and verbal links',\n",
       "       'attention disorder', 'stuborn', 'bad behavior', 'bad words',\n",
       "       'no eye contact', 'put things in mouth', 'moody', 'boored',\n",
       "       'aggressive', 'over asking', 'entrovert', 'hyperactive', 'Impulsive',\n",
       "       'nervous', 'Dependent', 'repetition and elongation'],\n",
       "      dtype='object')"
      ]
     },
     "execution_count": 124,
     "metadata": {},
     "output_type": "execute_result"
    }
   ],
   "source": [
    "df.columns"
   ]
  },
  {
   "cell_type": "code",
   "execution_count": 125,
   "id": "bb2e8d4e",
   "metadata": {},
   "outputs": [
    {
     "data": {
      "text/plain": [
       "gender                                     object\n",
       "age                                       float64\n",
       "diagnosis                                  object\n",
       "sitting                                   float64\n",
       "walking                                   float64\n",
       "bablleing                                 float64\n",
       "being able to figure things and people    float64\n",
       "Merge two voices together                 float64\n",
       "first word                                float64\n",
       "simple words                              float64\n",
       "potty trained                             float64\n",
       "no body language and signals              float64\n",
       "Sounds and syllables                      float64\n",
       "understanded words                        float64\n",
       "words from 2:4 letters                    float64\n",
       "words with more than 4 letters            float64\n",
       "Uses formulas and verbal links            float64\n",
       "attention disorder                        float64\n",
       "stuborn                                   float64\n",
       "bad behavior                              float64\n",
       "bad words                                 float64\n",
       "no eye contact                            float64\n",
       "put things in mouth                       float64\n",
       "moody                                     float64\n",
       "boored                                    float64\n",
       "aggressive                                float64\n",
       "over asking                               float64\n",
       "entrovert                                 float64\n",
       "hyperactive                               float64\n",
       "Impulsive                                 float64\n",
       "nervous                                   float64\n",
       "Dependent                                 float64\n",
       "repetition and elongation                 float64\n",
       "dtype: object"
      ]
     },
     "execution_count": 125,
     "metadata": {},
     "output_type": "execute_result"
    }
   ],
   "source": [
    "df.dtypes"
   ]
  },
  {
   "cell_type": "code",
   "execution_count": 126,
   "id": "86c5a2a0",
   "metadata": {},
   "outputs": [
    {
     "data": {
      "text/html": [
       "<div>\n",
       "<style scoped>\n",
       "    .dataframe tbody tr th:only-of-type {\n",
       "        vertical-align: middle;\n",
       "    }\n",
       "\n",
       "    .dataframe tbody tr th {\n",
       "        vertical-align: top;\n",
       "    }\n",
       "\n",
       "    .dataframe thead th {\n",
       "        text-align: right;\n",
       "    }\n",
       "</style>\n",
       "<table border=\"1\" class=\"dataframe\">\n",
       "  <thead>\n",
       "    <tr style=\"text-align: right;\">\n",
       "      <th>diagnosis</th>\n",
       "      <th>ADHD</th>\n",
       "      <th>Autizm</th>\n",
       "      <th>DLD</th>\n",
       "      <th>Hyperactive</th>\n",
       "      <th>MR</th>\n",
       "      <th>PROBLEM IN ARTICULATION</th>\n",
       "      <th>Problem Behavior</th>\n",
       "      <th>Stuttering</th>\n",
       "    </tr>\n",
       "    <tr>\n",
       "      <th>gender</th>\n",
       "      <th></th>\n",
       "      <th></th>\n",
       "      <th></th>\n",
       "      <th></th>\n",
       "      <th></th>\n",
       "      <th></th>\n",
       "      <th></th>\n",
       "      <th></th>\n",
       "    </tr>\n",
       "  </thead>\n",
       "  <tbody>\n",
       "    <tr>\n",
       "      <th>female</th>\n",
       "      <td>0.126984</td>\n",
       "      <td>0.111111</td>\n",
       "      <td>0.277778</td>\n",
       "      <td>0.031746</td>\n",
       "      <td>0.063492</td>\n",
       "      <td>0.055556</td>\n",
       "      <td>0.142857</td>\n",
       "      <td>0.190476</td>\n",
       "    </tr>\n",
       "    <tr>\n",
       "      <th>male</th>\n",
       "      <td>0.113757</td>\n",
       "      <td>0.105820</td>\n",
       "      <td>0.288360</td>\n",
       "      <td>0.074074</td>\n",
       "      <td>0.050265</td>\n",
       "      <td>0.113757</td>\n",
       "      <td>0.111111</td>\n",
       "      <td>0.142857</td>\n",
       "    </tr>\n",
       "  </tbody>\n",
       "</table>\n",
       "</div>"
      ],
      "text/plain": [
       "diagnosis      ADHD    Autizm       DLD  Hyperactive        MR  \\\n",
       "gender                                                           \n",
       "female     0.126984  0.111111  0.277778     0.031746  0.063492   \n",
       "male       0.113757  0.105820  0.288360     0.074074  0.050265   \n",
       "\n",
       "diagnosis  PROBLEM IN ARTICULATION  Problem Behavior  Stuttering  \n",
       "gender                                                            \n",
       "female                    0.055556          0.142857    0.190476  \n",
       "male                      0.113757          0.111111    0.142857  "
      ]
     },
     "execution_count": 126,
     "metadata": {},
     "output_type": "execute_result"
    }
   ],
   "source": [
    "pd.crosstab(df.gender, df.diagnosis, normalize='index')"
   ]
  },
  {
   "cell_type": "code",
   "execution_count": 127,
   "id": "3168b246",
   "metadata": {},
   "outputs": [
    {
     "data": {
      "text/plain": [
       "DLD                        0.285714\n",
       "Stuttering                 0.154762\n",
       "Problem Behavior           0.119048\n",
       "ADHD                       0.117063\n",
       "Autizm                     0.107143\n",
       "PROBLEM IN ARTICULATION    0.099206\n",
       "Hyperactive                0.063492\n",
       "MR                         0.053571\n",
       "Name: diagnosis, dtype: float64"
      ]
     },
     "execution_count": 127,
     "metadata": {},
     "output_type": "execute_result"
    }
   ],
   "source": [
    "df.diagnosis.value_counts()/len(df)"
   ]
  },
  {
   "cell_type": "code",
   "execution_count": 128,
   "id": "ab94156a",
   "metadata": {},
   "outputs": [
    {
     "data": {
      "text/plain": [
       "Index(['gender', 'age', 'diagnosis', 'sitting', 'walking', 'bablleing',\n",
       "       'being able to figure things and people', 'Merge two voices together',\n",
       "       'first word', 'simple words', 'potty trained',\n",
       "       'no body language and signals', 'Sounds and syllables',\n",
       "       'understanded words', 'words from 2:4 letters',\n",
       "       'words with more than 4 letters', 'Uses formulas and verbal links',\n",
       "       'attention disorder', 'stuborn', 'bad behavior', 'bad words',\n",
       "       'no eye contact', 'put things in mouth', 'moody', 'boored',\n",
       "       'aggressive', 'over asking', 'entrovert', 'hyperactive', 'Impulsive',\n",
       "       'nervous', 'Dependent', 'repetition and elongation'],\n",
       "      dtype='object')"
      ]
     },
     "execution_count": 128,
     "metadata": {},
     "output_type": "execute_result"
    }
   ],
   "source": [
    "df.columns"
   ]
  },
  {
   "cell_type": "code",
   "execution_count": 129,
   "id": "2bc4b546",
   "metadata": {},
   "outputs": [
    {
     "name": "stdout",
     "output_type": "stream",
     "text": [
      "1.0    445\n",
      "0.0     59\n",
      "Name: walking, dtype: int64\n"
     ]
    }
   ],
   "source": [
    "print(df['walking'].value_counts())"
   ]
  },
  {
   "cell_type": "code",
   "execution_count": 130,
   "id": "ad73b3a8",
   "metadata": {},
   "outputs": [],
   "source": [
    "df['understands'] = np.where(df['understanded words']== df['words from 2:4 letters'], \"1\", \"0\")\n",
    "df['bad behavior'] = np.where(df['bad behavior']== df['stuborn'], \"1\", \"0\")\n",
    "df['moods'] = np.where(df['moody']== df['boored'], \"1\", \"0\")\n",
    "df['movement'] = np.where(df['sitting']== df['walking'], \"1\", \"0\")\n",
    "df['understands'] = np.where(df['sitting']== df['bablleing'], \"1\", \"0\")\n",
    "df['moody with no eye contact'] = np.where(df['moody']== df['no eye contact'], \"1\", \"0\")\n",
    "df['impulsive with no eye contact'] = np.where(df['Impulsive']== df['no eye contact'], \"1\", \"0\")\n",
    "df['elongation'] = np.where(df['repetition and elongation']== df['Uses formulas and verbal links'], \"1\", \"0\")\n",
    "df['focused'] = np.where(df['Merge two voices together']== df['being able to figure things and people'], \"1\", \"0\")\n",
    "df['speaking'] = np.where(df['Uses formulas and verbal links']== df['words with more than 4 letters'], \"1\", \"0\")"
   ]
  },
  {
   "cell_type": "code",
   "execution_count": 131,
   "id": "3ebf1c33",
   "metadata": {},
   "outputs": [],
   "source": [
    "df = df.drop(['understanded words', 'words from 2:4 letters','bad behavior','stuborn','moody','boored','sitting','walking','bablleing','no eye contact','Impulsive','being able to figure things and people','Uses formulas and verbal links','repetition and elongation','Merge two voices together','words with more than 4 letters'], axis=1)"
   ]
  },
  {
   "cell_type": "code",
   "execution_count": 132,
   "id": "ece9310a",
   "metadata": {},
   "outputs": [
    {
     "data": {
      "text/plain": [
       "(504, 25)"
      ]
     },
     "execution_count": 132,
     "metadata": {},
     "output_type": "execute_result"
    }
   ],
   "source": [
    "df.shape"
   ]
  },
  {
   "cell_type": "markdown",
   "id": "5ef33d11",
   "metadata": {},
   "source": [
    "# Filling NULL values"
   ]
  },
  {
   "cell_type": "code",
   "execution_count": 133,
   "id": "a01dd394",
   "metadata": {},
   "outputs": [
    {
     "name": "stdout",
     "output_type": "stream",
     "text": [
      "gender                            0\n",
      "age                               0\n",
      "diagnosis                         0\n",
      "first word                        0\n",
      "simple words                      1\n",
      "potty trained                     1\n",
      "no body language and signals      1\n",
      "Sounds and syllables              1\n",
      "attention disorder                0\n",
      "bad words                         1\n",
      "put things in mouth               1\n",
      "aggressive                        3\n",
      "over asking                       1\n",
      "entrovert                         1\n",
      "hyperactive                      11\n",
      "nervous                          13\n",
      "Dependent                        14\n",
      "understands                       0\n",
      "moods                             0\n",
      "movement                          0\n",
      "moody with no eye contact         0\n",
      "impulsive with no eye contact     0\n",
      "elongation                        0\n",
      "focused                           0\n",
      "speaking                          0\n",
      "dtype: int64\n"
     ]
    }
   ],
   "source": [
    "print(df.isnull().sum())"
   ]
  },
  {
   "cell_type": "code",
   "execution_count": 134,
   "id": "22e06049",
   "metadata": {},
   "outputs": [
    {
     "data": {
      "text/plain": [
       "array(['Problem Behavior', 'Autizm', 'Stuttering', 'DLD',\n",
       "       'PROBLEM IN ARTICULATION', 'MR', 'ADHD', 'Hyperactive'],\n",
       "      dtype=object)"
      ]
     },
     "execution_count": 134,
     "metadata": {},
     "output_type": "execute_result"
    }
   ],
   "source": [
    "df['diagnosis'].unique()"
   ]
  },
  {
   "cell_type": "code",
   "execution_count": 135,
   "id": "615cfb52",
   "metadata": {},
   "outputs": [],
   "source": [
    "df = df.iloc[3:-2].fillna(0)"
   ]
  },
  {
   "cell_type": "code",
   "execution_count": 136,
   "id": "24f93976",
   "metadata": {},
   "outputs": [],
   "source": [
    "df = df.dropna(subset=['diagnosis'])"
   ]
  },
  {
   "cell_type": "code",
   "execution_count": 137,
   "id": "ae0db771",
   "metadata": {},
   "outputs": [],
   "source": [
    "df = df.fillna(df['age'].median())"
   ]
  },
  {
   "cell_type": "code",
   "execution_count": 138,
   "id": "ab8216b9",
   "metadata": {},
   "outputs": [
    {
     "data": {
      "text/plain": [
       "(499, 25)"
      ]
     },
     "execution_count": 138,
     "metadata": {},
     "output_type": "execute_result"
    }
   ],
   "source": [
    "df.shape"
   ]
  },
  {
   "cell_type": "code",
   "execution_count": 139,
   "id": "5f78393e",
   "metadata": {},
   "outputs": [
    {
     "name": "stdout",
     "output_type": "stream",
     "text": [
      "gender                           0\n",
      "age                              0\n",
      "diagnosis                        0\n",
      "first word                       0\n",
      "simple words                     0\n",
      "potty trained                    0\n",
      "no body language and signals     0\n",
      "Sounds and syllables             0\n",
      "attention disorder               0\n",
      "bad words                        0\n",
      "put things in mouth              0\n",
      "aggressive                       0\n",
      "over asking                      0\n",
      "entrovert                        0\n",
      "hyperactive                      0\n",
      "nervous                          0\n",
      "Dependent                        0\n",
      "understands                      0\n",
      "moods                            0\n",
      "movement                         0\n",
      "moody with no eye contact        0\n",
      "impulsive with no eye contact    0\n",
      "elongation                       0\n",
      "focused                          0\n",
      "speaking                         0\n",
      "dtype: int64\n"
     ]
    }
   ],
   "source": [
    "print(df.isnull().sum())"
   ]
  },
  {
   "cell_type": "code",
   "execution_count": 140,
   "id": "8beb6021",
   "metadata": {},
   "outputs": [
    {
     "data": {
      "text/plain": [
       "array(['DLD', 'Stuttering', 'Problem Behavior', 'PROBLEM IN ARTICULATION',\n",
       "       'Autizm', 'MR', 'ADHD', 'Hyperactive'], dtype=object)"
      ]
     },
     "execution_count": 140,
     "metadata": {},
     "output_type": "execute_result"
    }
   ],
   "source": [
    "df['diagnosis'].unique()"
   ]
  },
  {
   "cell_type": "code",
   "execution_count": 141,
   "id": "94e35cca",
   "metadata": {},
   "outputs": [
    {
     "data": {
      "text/html": [
       "<div>\n",
       "<style scoped>\n",
       "    .dataframe tbody tr th:only-of-type {\n",
       "        vertical-align: middle;\n",
       "    }\n",
       "\n",
       "    .dataframe tbody tr th {\n",
       "        vertical-align: top;\n",
       "    }\n",
       "\n",
       "    .dataframe thead th {\n",
       "        text-align: right;\n",
       "    }\n",
       "</style>\n",
       "<table border=\"1\" class=\"dataframe\">\n",
       "  <thead>\n",
       "    <tr style=\"text-align: right;\">\n",
       "      <th></th>\n",
       "      <th>gender</th>\n",
       "      <th>age</th>\n",
       "      <th>diagnosis</th>\n",
       "      <th>first word</th>\n",
       "      <th>simple words</th>\n",
       "      <th>potty trained</th>\n",
       "      <th>no body language and signals</th>\n",
       "      <th>Sounds and syllables</th>\n",
       "      <th>attention disorder</th>\n",
       "      <th>bad words</th>\n",
       "      <th>...</th>\n",
       "      <th>nervous</th>\n",
       "      <th>Dependent</th>\n",
       "      <th>understands</th>\n",
       "      <th>moods</th>\n",
       "      <th>movement</th>\n",
       "      <th>moody with no eye contact</th>\n",
       "      <th>impulsive with no eye contact</th>\n",
       "      <th>elongation</th>\n",
       "      <th>focused</th>\n",
       "      <th>speaking</th>\n",
       "    </tr>\n",
       "  </thead>\n",
       "  <tbody>\n",
       "    <tr>\n",
       "      <th>3</th>\n",
       "      <td>male</td>\n",
       "      <td>9.0</td>\n",
       "      <td>DLD</td>\n",
       "      <td>0.0</td>\n",
       "      <td>0.0</td>\n",
       "      <td>1.0</td>\n",
       "      <td>0.0</td>\n",
       "      <td>0.0</td>\n",
       "      <td>1.0</td>\n",
       "      <td>0.0</td>\n",
       "      <td>...</td>\n",
       "      <td>1.0</td>\n",
       "      <td>0.0</td>\n",
       "      <td>1</td>\n",
       "      <td>0</td>\n",
       "      <td>1</td>\n",
       "      <td>1</td>\n",
       "      <td>1</td>\n",
       "      <td>1</td>\n",
       "      <td>1</td>\n",
       "      <td>1</td>\n",
       "    </tr>\n",
       "    <tr>\n",
       "      <th>4</th>\n",
       "      <td>male</td>\n",
       "      <td>4.0</td>\n",
       "      <td>Stuttering</td>\n",
       "      <td>1.0</td>\n",
       "      <td>1.0</td>\n",
       "      <td>1.0</td>\n",
       "      <td>0.0</td>\n",
       "      <td>1.0</td>\n",
       "      <td>0.0</td>\n",
       "      <td>0.0</td>\n",
       "      <td>...</td>\n",
       "      <td>0.0</td>\n",
       "      <td>0.0</td>\n",
       "      <td>1</td>\n",
       "      <td>1</td>\n",
       "      <td>1</td>\n",
       "      <td>1</td>\n",
       "      <td>1</td>\n",
       "      <td>1</td>\n",
       "      <td>1</td>\n",
       "      <td>0</td>\n",
       "    </tr>\n",
       "    <tr>\n",
       "      <th>5</th>\n",
       "      <td>female</td>\n",
       "      <td>8.0</td>\n",
       "      <td>Problem Behavior</td>\n",
       "      <td>1.0</td>\n",
       "      <td>1.0</td>\n",
       "      <td>1.0</td>\n",
       "      <td>1.0</td>\n",
       "      <td>1.0</td>\n",
       "      <td>1.0</td>\n",
       "      <td>1.0</td>\n",
       "      <td>...</td>\n",
       "      <td>0.0</td>\n",
       "      <td>0.0</td>\n",
       "      <td>1</td>\n",
       "      <td>1</td>\n",
       "      <td>1</td>\n",
       "      <td>0</td>\n",
       "      <td>1</td>\n",
       "      <td>0</td>\n",
       "      <td>1</td>\n",
       "      <td>1</td>\n",
       "    </tr>\n",
       "    <tr>\n",
       "      <th>6</th>\n",
       "      <td>male</td>\n",
       "      <td>2.8</td>\n",
       "      <td>PROBLEM IN ARTICULATION</td>\n",
       "      <td>1.0</td>\n",
       "      <td>0.0</td>\n",
       "      <td>0.0</td>\n",
       "      <td>1.0</td>\n",
       "      <td>0.0</td>\n",
       "      <td>0.0</td>\n",
       "      <td>0.0</td>\n",
       "      <td>...</td>\n",
       "      <td>0.0</td>\n",
       "      <td>0.0</td>\n",
       "      <td>0</td>\n",
       "      <td>1</td>\n",
       "      <td>0</td>\n",
       "      <td>1</td>\n",
       "      <td>1</td>\n",
       "      <td>1</td>\n",
       "      <td>1</td>\n",
       "      <td>1</td>\n",
       "    </tr>\n",
       "    <tr>\n",
       "      <th>7</th>\n",
       "      <td>male</td>\n",
       "      <td>4.0</td>\n",
       "      <td>Stuttering</td>\n",
       "      <td>1.0</td>\n",
       "      <td>1.0</td>\n",
       "      <td>1.0</td>\n",
       "      <td>0.0</td>\n",
       "      <td>1.0</td>\n",
       "      <td>0.0</td>\n",
       "      <td>0.0</td>\n",
       "      <td>...</td>\n",
       "      <td>0.0</td>\n",
       "      <td>0.0</td>\n",
       "      <td>1</td>\n",
       "      <td>1</td>\n",
       "      <td>1</td>\n",
       "      <td>1</td>\n",
       "      <td>1</td>\n",
       "      <td>1</td>\n",
       "      <td>1</td>\n",
       "      <td>0</td>\n",
       "    </tr>\n",
       "  </tbody>\n",
       "</table>\n",
       "<p>5 rows × 25 columns</p>\n",
       "</div>"
      ],
      "text/plain": [
       "   gender  age                diagnosis  first word  simple words  \\\n",
       "3    male  9.0                      DLD         0.0           0.0   \n",
       "4    male  4.0               Stuttering         1.0           1.0   \n",
       "5  female  8.0         Problem Behavior         1.0           1.0   \n",
       "6    male  2.8  PROBLEM IN ARTICULATION         1.0           0.0   \n",
       "7    male  4.0               Stuttering         1.0           1.0   \n",
       "\n",
       "   potty trained  no body language and signals  Sounds and syllables  \\\n",
       "3            1.0                           0.0                   0.0   \n",
       "4            1.0                           0.0                   1.0   \n",
       "5            1.0                           1.0                   1.0   \n",
       "6            0.0                           1.0                   0.0   \n",
       "7            1.0                           0.0                   1.0   \n",
       "\n",
       "   attention disorder  bad words  ...  nervous  Dependent  understands  moods  \\\n",
       "3                 1.0        0.0  ...      1.0        0.0            1      0   \n",
       "4                 0.0        0.0  ...      0.0        0.0            1      1   \n",
       "5                 1.0        1.0  ...      0.0        0.0            1      1   \n",
       "6                 0.0        0.0  ...      0.0        0.0            0      1   \n",
       "7                 0.0        0.0  ...      0.0        0.0            1      1   \n",
       "\n",
       "   movement  moody with no eye contact  impulsive with no eye contact  \\\n",
       "3         1                          1                              1   \n",
       "4         1                          1                              1   \n",
       "5         1                          0                              1   \n",
       "6         0                          1                              1   \n",
       "7         1                          1                              1   \n",
       "\n",
       "  elongation focused speaking  \n",
       "3          1       1        1  \n",
       "4          1       1        0  \n",
       "5          0       1        1  \n",
       "6          1       1        1  \n",
       "7          1       1        0  \n",
       "\n",
       "[5 rows x 25 columns]"
      ]
     },
     "execution_count": 141,
     "metadata": {},
     "output_type": "execute_result"
    }
   ],
   "source": [
    "df.head()"
   ]
  },
  {
   "cell_type": "code",
   "execution_count": 142,
   "id": "3e587e5d",
   "metadata": {},
   "outputs": [
    {
     "data": {
      "text/plain": [
       "Index(['gender', 'age', 'diagnosis', 'first word', 'simple words',\n",
       "       'potty trained', 'no body language and signals', 'Sounds and syllables',\n",
       "       'attention disorder', 'bad words', 'put things in mouth', 'aggressive',\n",
       "       'over asking', 'entrovert', 'hyperactive', 'nervous', 'Dependent',\n",
       "       'understands', 'moods', 'movement', 'moody with no eye contact',\n",
       "       'impulsive with no eye contact', 'elongation', 'focused', 'speaking'],\n",
       "      dtype='object')"
      ]
     },
     "execution_count": 142,
     "metadata": {},
     "output_type": "execute_result"
    }
   ],
   "source": [
    "df.columns"
   ]
  },
  {
   "cell_type": "code",
   "execution_count": 143,
   "id": "79aca28b",
   "metadata": {},
   "outputs": [
    {
     "data": {
      "image/png": "[encoded data removed]",
      "text/plain": [
       "<Figure size 720x360 with 1 Axes>"
      ]
     },
     "metadata": {
      "needs_background": "light"
     },
     "output_type": "display_data"
    }
   ],
   "source": [
    "age = df['age']\n",
    "age.plot.hist(figsize=(10,5));"
   ]
  },
  {
   "cell_type": "code",
   "execution_count": 144,
   "id": "5bd4f6d4",
   "metadata": {},
   "outputs": [
    {
     "data": {
      "image/png": "[encoded data removed]",
      "text/plain": [
       "<Figure size 432x288 with 1 Axes>"
      ]
     },
     "metadata": {
      "needs_background": "light"
     },
     "output_type": "display_data"
    }
   ],
   "source": [
    "gender = df['gender']\n",
    "diagnosis = df['diagnosis']\n",
    "pd.crosstab(df.gender, df.diagnosis).plot(kind ='bar',stacked=True,);"
   ]
  },
  {
   "cell_type": "code",
   "execution_count": 145,
   "id": "371871ed",
   "metadata": {},
   "outputs": [
    {
     "data": {
      "image/png": "[encoded data removed]",
      "text/plain": [
       "<Figure size 432x288 with 1 Axes>"
      ]
     },
     "metadata": {
      "needs_background": "light"
     },
     "output_type": "display_data"
    }
   ],
   "source": [
    "base_color = sb.color_palette()[0]\n",
    "sb.boxplot(data=df, x='diagnosis', y='age', color=base_color)\n",
    "plt.xticks(rotation=90);"
   ]
  },
  {
   "cell_type": "code",
   "execution_count": 146,
   "id": "b0482a7a",
   "metadata": {},
   "outputs": [
    {
     "data": {
      "text/plain": [
       "Index(['gender', 'age', 'diagnosis', 'first word', 'simple words',\n",
       "       'potty trained', 'no body language and signals', 'Sounds and syllables',\n",
       "       'attention disorder', 'bad words', 'put things in mouth', 'aggressive',\n",
       "       'over asking', 'entrovert', 'hyperactive', 'nervous', 'Dependent',\n",
       "       'understands', 'moods', 'movement', 'moody with no eye contact',\n",
       "       'impulsive with no eye contact', 'elongation', 'focused', 'speaking'],\n",
       "      dtype='object')"
      ]
     },
     "execution_count": 146,
     "metadata": {},
     "output_type": "execute_result"
    }
   ],
   "source": [
    "df.columns"
   ]
  },
  {
   "cell_type": "code",
   "execution_count": 147,
   "id": "bb835775",
   "metadata": {},
   "outputs": [
    {
     "data": {
      "text/html": [
       "<div>\n",
       "<style scoped>\n",
       "    .dataframe tbody tr th:only-of-type {\n",
       "        vertical-align: middle;\n",
       "    }\n",
       "\n",
       "    .dataframe tbody tr th {\n",
       "        vertical-align: top;\n",
       "    }\n",
       "\n",
       "    .dataframe thead th {\n",
       "        text-align: right;\n",
       "    }\n",
       "</style>\n",
       "<table border=\"1\" class=\"dataframe\">\n",
       "  <thead>\n",
       "    <tr style=\"text-align: right;\">\n",
       "      <th>diagnosis</th>\n",
       "      <th>ADHD</th>\n",
       "      <th>Autizm</th>\n",
       "      <th>DLD</th>\n",
       "      <th>Hyperactive</th>\n",
       "      <th>MR</th>\n",
       "      <th>PROBLEM IN ARTICULATION</th>\n",
       "      <th>Problem Behavior</th>\n",
       "      <th>Stuttering</th>\n",
       "    </tr>\n",
       "    <tr>\n",
       "      <th>moody with no eye contact</th>\n",
       "      <th></th>\n",
       "      <th></th>\n",
       "      <th></th>\n",
       "      <th></th>\n",
       "      <th></th>\n",
       "      <th></th>\n",
       "      <th></th>\n",
       "      <th></th>\n",
       "    </tr>\n",
       "  </thead>\n",
       "  <tbody>\n",
       "    <tr>\n",
       "      <th>0</th>\n",
       "      <td>0.015152</td>\n",
       "      <td>0.015152</td>\n",
       "      <td>0.015152</td>\n",
       "      <td>0.000000</td>\n",
       "      <td>0.000000</td>\n",
       "      <td>0.106061</td>\n",
       "      <td>0.848485</td>\n",
       "      <td>0.000000</td>\n",
       "    </tr>\n",
       "    <tr>\n",
       "      <th>1</th>\n",
       "      <td>0.133949</td>\n",
       "      <td>0.120092</td>\n",
       "      <td>0.330254</td>\n",
       "      <td>0.069284</td>\n",
       "      <td>0.062356</td>\n",
       "      <td>0.099307</td>\n",
       "      <td>0.006928</td>\n",
       "      <td>0.177829</td>\n",
       "    </tr>\n",
       "  </tbody>\n",
       "</table>\n",
       "</div>"
      ],
      "text/plain": [
       "diagnosis                      ADHD    Autizm       DLD  Hyperactive  \\\n",
       "moody with no eye contact                                              \n",
       "0                          0.015152  0.015152  0.015152     0.000000   \n",
       "1                          0.133949  0.120092  0.330254     0.069284   \n",
       "\n",
       "diagnosis                        MR  PROBLEM IN ARTICULATION  \\\n",
       "moody with no eye contact                                      \n",
       "0                          0.000000                 0.106061   \n",
       "1                          0.062356                 0.099307   \n",
       "\n",
       "diagnosis                  Problem Behavior  Stuttering  \n",
       "moody with no eye contact                                \n",
       "0                                  0.848485    0.000000  \n",
       "1                                  0.006928    0.177829  "
      ]
     },
     "execution_count": 147,
     "metadata": {},
     "output_type": "execute_result"
    },
    {
     "data": {
      "image/png": "[encoded data removed]",
      "text/plain": [
       "<Figure size 432x288 with 1 Axes>"
      ]
     },
     "metadata": {
      "needs_background": "light"
     },
     "output_type": "display_data"
    }
   ],
   "source": [
    "pd.crosstab(df['moody with no eye contact'], df.diagnosis).plot(kind ='bar',stacked=True,);\n",
    "pd.crosstab(df['moody with no eye contact'], df.diagnosis, normalize='index')"
   ]
  },
  {
   "cell_type": "code",
   "execution_count": 150,
   "id": "f1741d8d",
   "metadata": {},
   "outputs": [
    {
     "data": {
      "text/html": [
       "<div>\n",
       "<style scoped>\n",
       "    .dataframe tbody tr th:only-of-type {\n",
       "        vertical-align: middle;\n",
       "    }\n",
       "\n",
       "    .dataframe tbody tr th {\n",
       "        vertical-align: top;\n",
       "    }\n",
       "\n",
       "    .dataframe thead th {\n",
       "        text-align: right;\n",
       "    }\n",
       "</style>\n",
       "<table border=\"1\" class=\"dataframe\">\n",
       "  <thead>\n",
       "    <tr style=\"text-align: right;\">\n",
       "      <th>diagnosis</th>\n",
       "      <th>ADHD</th>\n",
       "      <th>Autizm</th>\n",
       "      <th>DLD</th>\n",
       "      <th>Hyperactive</th>\n",
       "      <th>MR</th>\n",
       "      <th>PROBLEM IN ARTICULATION</th>\n",
       "      <th>Problem Behavior</th>\n",
       "      <th>Stuttering</th>\n",
       "    </tr>\n",
       "    <tr>\n",
       "      <th>potty trained</th>\n",
       "      <th></th>\n",
       "      <th></th>\n",
       "      <th></th>\n",
       "      <th></th>\n",
       "      <th></th>\n",
       "      <th></th>\n",
       "      <th></th>\n",
       "      <th></th>\n",
       "    </tr>\n",
       "  </thead>\n",
       "  <tbody>\n",
       "    <tr>\n",
       "      <th>0.0</th>\n",
       "      <td>0.015152</td>\n",
       "      <td>0.151515</td>\n",
       "      <td>0.015152</td>\n",
       "      <td>0.272727</td>\n",
       "      <td>0.409091</td>\n",
       "      <td>0.136364</td>\n",
       "      <td>0.000000</td>\n",
       "      <td>0.000000</td>\n",
       "    </tr>\n",
       "    <tr>\n",
       "      <th>1.0</th>\n",
       "      <td>0.133949</td>\n",
       "      <td>0.099307</td>\n",
       "      <td>0.330254</td>\n",
       "      <td>0.027714</td>\n",
       "      <td>0.000000</td>\n",
       "      <td>0.094688</td>\n",
       "      <td>0.136259</td>\n",
       "      <td>0.177829</td>\n",
       "    </tr>\n",
       "  </tbody>\n",
       "</table>\n",
       "</div>"
      ],
      "text/plain": [
       "diagnosis          ADHD    Autizm       DLD  Hyperactive        MR  \\\n",
       "potty trained                                                        \n",
       "0.0            0.015152  0.151515  0.015152     0.272727  0.409091   \n",
       "1.0            0.133949  0.099307  0.330254     0.027714  0.000000   \n",
       "\n",
       "diagnosis      PROBLEM IN ARTICULATION  Problem Behavior  Stuttering  \n",
       "potty trained                                                         \n",
       "0.0                           0.136364          0.000000    0.000000  \n",
       "1.0                           0.094688          0.136259    0.177829  "
      ]
     },
     "execution_count": 150,
     "metadata": {},
     "output_type": "execute_result"
    },
    {
     "data": {
      "image/png": "[encoded data removed]",
      "text/plain": [
       "<Figure size 432x288 with 1 Axes>"
      ]
     },
     "metadata": {
      "needs_background": "light"
     },
     "output_type": "display_data"
    }
   ],
   "source": [
    "pd.crosstab(df['potty trained'], df.diagnosis).plot(kind ='bar',stacked=True,);\n",
    "pd.crosstab(df['potty trained'], df.diagnosis, normalize='index')"
   ]
  },
  {
   "cell_type": "code",
   "execution_count": 151,
   "id": "d126bdc5",
   "metadata": {},
   "outputs": [
    {
     "data": {
      "text/html": [
       "<div>\n",
       "<style scoped>\n",
       "    .dataframe tbody tr th:only-of-type {\n",
       "        vertical-align: middle;\n",
       "    }\n",
       "\n",
       "    .dataframe tbody tr th {\n",
       "        vertical-align: top;\n",
       "    }\n",
       "\n",
       "    .dataframe thead th {\n",
       "        text-align: right;\n",
       "    }\n",
       "</style>\n",
       "<table border=\"1\" class=\"dataframe\">\n",
       "  <thead>\n",
       "    <tr style=\"text-align: right;\">\n",
       "      <th>diagnosis</th>\n",
       "      <th>ADHD</th>\n",
       "      <th>Autizm</th>\n",
       "      <th>DLD</th>\n",
       "      <th>Hyperactive</th>\n",
       "      <th>MR</th>\n",
       "      <th>PROBLEM IN ARTICULATION</th>\n",
       "      <th>Problem Behavior</th>\n",
       "      <th>Stuttering</th>\n",
       "    </tr>\n",
       "    <tr>\n",
       "      <th>elongation</th>\n",
       "      <th></th>\n",
       "      <th></th>\n",
       "      <th></th>\n",
       "      <th></th>\n",
       "      <th></th>\n",
       "      <th></th>\n",
       "      <th></th>\n",
       "      <th></th>\n",
       "    </tr>\n",
       "  </thead>\n",
       "  <tbody>\n",
       "    <tr>\n",
       "      <th>0</th>\n",
       "      <td>0.010417</td>\n",
       "      <td>0.020833</td>\n",
       "      <td>0.041667</td>\n",
       "      <td>0.125000</td>\n",
       "      <td>0.000000</td>\n",
       "      <td>0.135417</td>\n",
       "      <td>0.604167</td>\n",
       "      <td>0.062500</td>\n",
       "    </tr>\n",
       "    <tr>\n",
       "      <th>1</th>\n",
       "      <td>0.143921</td>\n",
       "      <td>0.126551</td>\n",
       "      <td>0.347395</td>\n",
       "      <td>0.044665</td>\n",
       "      <td>0.066998</td>\n",
       "      <td>0.091811</td>\n",
       "      <td>0.002481</td>\n",
       "      <td>0.176179</td>\n",
       "    </tr>\n",
       "  </tbody>\n",
       "</table>\n",
       "</div>"
      ],
      "text/plain": [
       "diagnosis       ADHD    Autizm       DLD  Hyperactive        MR  \\\n",
       "elongation                                                        \n",
       "0           0.010417  0.020833  0.041667     0.125000  0.000000   \n",
       "1           0.143921  0.126551  0.347395     0.044665  0.066998   \n",
       "\n",
       "diagnosis   PROBLEM IN ARTICULATION  Problem Behavior  Stuttering  \n",
       "elongation                                                         \n",
       "0                          0.135417          0.604167    0.062500  \n",
       "1                          0.091811          0.002481    0.176179  "
      ]
     },
     "execution_count": 151,
     "metadata": {},
     "output_type": "execute_result"
    },
    {
     "data": {
      "image/png": "[encoded data removed]",
      "text/plain": [
       "<Figure size 432x288 with 1 Axes>"
      ]
     },
     "metadata": {
      "needs_background": "light"
     },
     "output_type": "display_data"
    }
   ],
   "source": [
    "elongation = df['elongation']\n",
    "pd.crosstab(df.elongation, df.diagnosis).plot(kind ='bar',stacked=True,);\n",
    "pd.crosstab(df.elongation, df.diagnosis, normalize='index')"
   ]
  },
  {
   "cell_type": "code",
   "execution_count": 67,
   "id": "48be9b00",
   "metadata": {},
   "outputs": [
    {
     "data": {
      "text/html": [
       "<div>\n",
       "<style scoped>\n",
       "    .dataframe tbody tr th:only-of-type {\n",
       "        vertical-align: middle;\n",
       "    }\n",
       "\n",
       "    .dataframe tbody tr th {\n",
       "        vertical-align: top;\n",
       "    }\n",
       "\n",
       "    .dataframe thead th {\n",
       "        text-align: right;\n",
       "    }\n",
       "</style>\n",
       "<table border=\"1\" class=\"dataframe\">\n",
       "  <thead>\n",
       "    <tr style=\"text-align: right;\">\n",
       "      <th>diagnosis</th>\n",
       "      <th>ADHD</th>\n",
       "      <th>Autizm</th>\n",
       "      <th>DLD</th>\n",
       "      <th>Hyperactive</th>\n",
       "      <th>MR</th>\n",
       "      <th>PROBLEM IN ARTICULATION</th>\n",
       "      <th>Problem Behavior</th>\n",
       "      <th>Stuttering</th>\n",
       "    </tr>\n",
       "    <tr>\n",
       "      <th>no body language and signals</th>\n",
       "      <th></th>\n",
       "      <th></th>\n",
       "      <th></th>\n",
       "      <th></th>\n",
       "      <th></th>\n",
       "      <th></th>\n",
       "      <th></th>\n",
       "      <th></th>\n",
       "    </tr>\n",
       "  </thead>\n",
       "  <tbody>\n",
       "    <tr>\n",
       "      <th>0.0</th>\n",
       "      <td>0.004000</td>\n",
       "      <td>0.000000</td>\n",
       "      <td>0.504000</td>\n",
       "      <td>0.072000</td>\n",
       "      <td>0.108</td>\n",
       "      <td>0.000000</td>\n",
       "      <td>0.004000</td>\n",
       "      <td>0.308</td>\n",
       "    </tr>\n",
       "    <tr>\n",
       "      <th>1.0</th>\n",
       "      <td>0.232932</td>\n",
       "      <td>0.212851</td>\n",
       "      <td>0.072289</td>\n",
       "      <td>0.048193</td>\n",
       "      <td>0.000</td>\n",
       "      <td>0.200803</td>\n",
       "      <td>0.232932</td>\n",
       "      <td>0.000</td>\n",
       "    </tr>\n",
       "  </tbody>\n",
       "</table>\n",
       "</div>"
      ],
      "text/plain": [
       "diagnosis                         ADHD    Autizm       DLD  Hyperactive  \\\n",
       "no body language and signals                                              \n",
       "0.0                           0.004000  0.000000  0.504000     0.072000   \n",
       "1.0                           0.232932  0.212851  0.072289     0.048193   \n",
       "\n",
       "diagnosis                        MR  PROBLEM IN ARTICULATION  \\\n",
       "no body language and signals                                   \n",
       "0.0                           0.108                 0.000000   \n",
       "1.0                           0.000                 0.200803   \n",
       "\n",
       "diagnosis                     Problem Behavior  Stuttering  \n",
       "no body language and signals                                \n",
       "0.0                                   0.004000       0.308  \n",
       "1.0                                   0.232932       0.000  "
      ]
     },
     "execution_count": 67,
     "metadata": {},
     "output_type": "execute_result"
    },
    {
     "data": {
      "image/png": "[encoded data removed]",
      "text/plain": [
       "<Figure size 432x288 with 1 Axes>"
      ]
     },
     "metadata": {
      "needs_background": "light"
     },
     "output_type": "display_data"
    }
   ],
   "source": [
    "pd.crosstab(df[\"no body language and signals\"], df.diagnosis).plot(kind ='bar',stacked=True,);\n",
    "pd.crosstab(df[\"no body language and signals\"], df.diagnosis, normalize='index')"
   ]
  },
  {
   "cell_type": "markdown",
   "id": "8dbad340",
   "metadata": {},
   "source": [
    "# Encoding"
   ]
  },
  {
   "cell_type": "code",
   "execution_count": 70,
   "id": "663864df",
   "metadata": {},
   "outputs": [
    {
     "data": {
      "text/html": [
       "<div>\n",
       "<style scoped>\n",
       "    .dataframe tbody tr th:only-of-type {\n",
       "        vertical-align: middle;\n",
       "    }\n",
       "\n",
       "    .dataframe tbody tr th {\n",
       "        vertical-align: top;\n",
       "    }\n",
       "\n",
       "    .dataframe thead th {\n",
       "        text-align: right;\n",
       "    }\n",
       "</style>\n",
       "<table border=\"1\" class=\"dataframe\">\n",
       "  <thead>\n",
       "    <tr style=\"text-align: right;\">\n",
       "      <th></th>\n",
       "      <th>gender</th>\n",
       "      <th>age</th>\n",
       "      <th>first word</th>\n",
       "      <th>simple words</th>\n",
       "      <th>potty trained</th>\n",
       "      <th>no body language and signals</th>\n",
       "      <th>Sounds and syllables</th>\n",
       "      <th>attention disorder</th>\n",
       "      <th>bad words</th>\n",
       "      <th>put things in mouth</th>\n",
       "      <th>...</th>\n",
       "      <th>focused</th>\n",
       "      <th>speaking</th>\n",
       "      <th>diagnosis_ADHD</th>\n",
       "      <th>diagnosis_Autizm</th>\n",
       "      <th>diagnosis_DLD</th>\n",
       "      <th>diagnosis_Hyperactive</th>\n",
       "      <th>diagnosis_MR</th>\n",
       "      <th>diagnosis_PROBLEM IN ARTICULATION</th>\n",
       "      <th>diagnosis_Problem Behavior</th>\n",
       "      <th>diagnosis_Stuttering</th>\n",
       "    </tr>\n",
       "  </thead>\n",
       "  <tbody>\n",
       "    <tr>\n",
       "      <th>3</th>\n",
       "      <td>male</td>\n",
       "      <td>9.0</td>\n",
       "      <td>0.0</td>\n",
       "      <td>0.0</td>\n",
       "      <td>1.0</td>\n",
       "      <td>0.0</td>\n",
       "      <td>0.0</td>\n",
       "      <td>1.0</td>\n",
       "      <td>0.0</td>\n",
       "      <td>0.0</td>\n",
       "      <td>...</td>\n",
       "      <td>1</td>\n",
       "      <td>1</td>\n",
       "      <td>0</td>\n",
       "      <td>0</td>\n",
       "      <td>1</td>\n",
       "      <td>0</td>\n",
       "      <td>0</td>\n",
       "      <td>0</td>\n",
       "      <td>0</td>\n",
       "      <td>0</td>\n",
       "    </tr>\n",
       "    <tr>\n",
       "      <th>4</th>\n",
       "      <td>male</td>\n",
       "      <td>4.0</td>\n",
       "      <td>1.0</td>\n",
       "      <td>1.0</td>\n",
       "      <td>1.0</td>\n",
       "      <td>0.0</td>\n",
       "      <td>1.0</td>\n",
       "      <td>0.0</td>\n",
       "      <td>0.0</td>\n",
       "      <td>0.0</td>\n",
       "      <td>...</td>\n",
       "      <td>1</td>\n",
       "      <td>0</td>\n",
       "      <td>0</td>\n",
       "      <td>0</td>\n",
       "      <td>0</td>\n",
       "      <td>0</td>\n",
       "      <td>0</td>\n",
       "      <td>0</td>\n",
       "      <td>0</td>\n",
       "      <td>1</td>\n",
       "    </tr>\n",
       "    <tr>\n",
       "      <th>5</th>\n",
       "      <td>female</td>\n",
       "      <td>8.0</td>\n",
       "      <td>1.0</td>\n",
       "      <td>1.0</td>\n",
       "      <td>1.0</td>\n",
       "      <td>1.0</td>\n",
       "      <td>1.0</td>\n",
       "      <td>1.0</td>\n",
       "      <td>1.0</td>\n",
       "      <td>0.0</td>\n",
       "      <td>...</td>\n",
       "      <td>1</td>\n",
       "      <td>1</td>\n",
       "      <td>0</td>\n",
       "      <td>0</td>\n",
       "      <td>0</td>\n",
       "      <td>0</td>\n",
       "      <td>0</td>\n",
       "      <td>0</td>\n",
       "      <td>1</td>\n",
       "      <td>0</td>\n",
       "    </tr>\n",
       "    <tr>\n",
       "      <th>6</th>\n",
       "      <td>male</td>\n",
       "      <td>2.8</td>\n",
       "      <td>1.0</td>\n",
       "      <td>0.0</td>\n",
       "      <td>0.0</td>\n",
       "      <td>1.0</td>\n",
       "      <td>0.0</td>\n",
       "      <td>0.0</td>\n",
       "      <td>0.0</td>\n",
       "      <td>0.0</td>\n",
       "      <td>...</td>\n",
       "      <td>1</td>\n",
       "      <td>1</td>\n",
       "      <td>0</td>\n",
       "      <td>0</td>\n",
       "      <td>0</td>\n",
       "      <td>0</td>\n",
       "      <td>0</td>\n",
       "      <td>1</td>\n",
       "      <td>0</td>\n",
       "      <td>0</td>\n",
       "    </tr>\n",
       "    <tr>\n",
       "      <th>7</th>\n",
       "      <td>male</td>\n",
       "      <td>4.0</td>\n",
       "      <td>1.0</td>\n",
       "      <td>1.0</td>\n",
       "      <td>1.0</td>\n",
       "      <td>0.0</td>\n",
       "      <td>1.0</td>\n",
       "      <td>0.0</td>\n",
       "      <td>0.0</td>\n",
       "      <td>0.0</td>\n",
       "      <td>...</td>\n",
       "      <td>1</td>\n",
       "      <td>0</td>\n",
       "      <td>0</td>\n",
       "      <td>0</td>\n",
       "      <td>0</td>\n",
       "      <td>0</td>\n",
       "      <td>0</td>\n",
       "      <td>0</td>\n",
       "      <td>0</td>\n",
       "      <td>1</td>\n",
       "    </tr>\n",
       "    <tr>\n",
       "      <th>...</th>\n",
       "      <td>...</td>\n",
       "      <td>...</td>\n",
       "      <td>...</td>\n",
       "      <td>...</td>\n",
       "      <td>...</td>\n",
       "      <td>...</td>\n",
       "      <td>...</td>\n",
       "      <td>...</td>\n",
       "      <td>...</td>\n",
       "      <td>...</td>\n",
       "      <td>...</td>\n",
       "      <td>...</td>\n",
       "      <td>...</td>\n",
       "      <td>...</td>\n",
       "      <td>...</td>\n",
       "      <td>...</td>\n",
       "      <td>...</td>\n",
       "      <td>...</td>\n",
       "      <td>...</td>\n",
       "      <td>...</td>\n",
       "      <td>...</td>\n",
       "    </tr>\n",
       "    <tr>\n",
       "      <th>497</th>\n",
       "      <td>male</td>\n",
       "      <td>3.5</td>\n",
       "      <td>0.0</td>\n",
       "      <td>0.0</td>\n",
       "      <td>1.0</td>\n",
       "      <td>1.0</td>\n",
       "      <td>0.0</td>\n",
       "      <td>1.0</td>\n",
       "      <td>0.0</td>\n",
       "      <td>0.0</td>\n",
       "      <td>...</td>\n",
       "      <td>0</td>\n",
       "      <td>1</td>\n",
       "      <td>0</td>\n",
       "      <td>0</td>\n",
       "      <td>0</td>\n",
       "      <td>0</td>\n",
       "      <td>0</td>\n",
       "      <td>1</td>\n",
       "      <td>0</td>\n",
       "      <td>0</td>\n",
       "    </tr>\n",
       "    <tr>\n",
       "      <th>498</th>\n",
       "      <td>male</td>\n",
       "      <td>3.5</td>\n",
       "      <td>0.0</td>\n",
       "      <td>0.0</td>\n",
       "      <td>1.0</td>\n",
       "      <td>1.0</td>\n",
       "      <td>0.0</td>\n",
       "      <td>1.0</td>\n",
       "      <td>0.0</td>\n",
       "      <td>0.0</td>\n",
       "      <td>...</td>\n",
       "      <td>0</td>\n",
       "      <td>1</td>\n",
       "      <td>0</td>\n",
       "      <td>0</td>\n",
       "      <td>0</td>\n",
       "      <td>0</td>\n",
       "      <td>0</td>\n",
       "      <td>1</td>\n",
       "      <td>0</td>\n",
       "      <td>0</td>\n",
       "    </tr>\n",
       "    <tr>\n",
       "      <th>499</th>\n",
       "      <td>male</td>\n",
       "      <td>4.0</td>\n",
       "      <td>0.0</td>\n",
       "      <td>0.0</td>\n",
       "      <td>0.0</td>\n",
       "      <td>0.0</td>\n",
       "      <td>0.0</td>\n",
       "      <td>0.0</td>\n",
       "      <td>0.0</td>\n",
       "      <td>0.0</td>\n",
       "      <td>...</td>\n",
       "      <td>1</td>\n",
       "      <td>1</td>\n",
       "      <td>0</td>\n",
       "      <td>0</td>\n",
       "      <td>0</td>\n",
       "      <td>1</td>\n",
       "      <td>0</td>\n",
       "      <td>0</td>\n",
       "      <td>0</td>\n",
       "      <td>0</td>\n",
       "    </tr>\n",
       "    <tr>\n",
       "      <th>500</th>\n",
       "      <td>male</td>\n",
       "      <td>4.0</td>\n",
       "      <td>0.0</td>\n",
       "      <td>0.0</td>\n",
       "      <td>0.0</td>\n",
       "      <td>0.0</td>\n",
       "      <td>0.0</td>\n",
       "      <td>0.0</td>\n",
       "      <td>0.0</td>\n",
       "      <td>0.0</td>\n",
       "      <td>...</td>\n",
       "      <td>1</td>\n",
       "      <td>1</td>\n",
       "      <td>0</td>\n",
       "      <td>0</td>\n",
       "      <td>0</td>\n",
       "      <td>1</td>\n",
       "      <td>0</td>\n",
       "      <td>0</td>\n",
       "      <td>0</td>\n",
       "      <td>0</td>\n",
       "    </tr>\n",
       "    <tr>\n",
       "      <th>501</th>\n",
       "      <td>male</td>\n",
       "      <td>4.0</td>\n",
       "      <td>0.0</td>\n",
       "      <td>0.0</td>\n",
       "      <td>0.0</td>\n",
       "      <td>0.0</td>\n",
       "      <td>0.0</td>\n",
       "      <td>0.0</td>\n",
       "      <td>0.0</td>\n",
       "      <td>0.0</td>\n",
       "      <td>...</td>\n",
       "      <td>1</td>\n",
       "      <td>1</td>\n",
       "      <td>0</td>\n",
       "      <td>0</td>\n",
       "      <td>0</td>\n",
       "      <td>1</td>\n",
       "      <td>0</td>\n",
       "      <td>0</td>\n",
       "      <td>0</td>\n",
       "      <td>0</td>\n",
       "    </tr>\n",
       "  </tbody>\n",
       "</table>\n",
       "<p>499 rows × 32 columns</p>\n",
       "</div>"
      ],
      "text/plain": [
       "     gender  age  first word  simple words  potty trained  \\\n",
       "3      male  9.0         0.0           0.0            1.0   \n",
       "4      male  4.0         1.0           1.0            1.0   \n",
       "5    female  8.0         1.0           1.0            1.0   \n",
       "6      male  2.8         1.0           0.0            0.0   \n",
       "7      male  4.0         1.0           1.0            1.0   \n",
       "..      ...  ...         ...           ...            ...   \n",
       "497    male  3.5         0.0           0.0            1.0   \n",
       "498    male  3.5         0.0           0.0            1.0   \n",
       "499    male  4.0         0.0           0.0            0.0   \n",
       "500    male  4.0         0.0           0.0            0.0   \n",
       "501    male  4.0         0.0           0.0            0.0   \n",
       "\n",
       "     no body language and signals  Sounds and syllables  attention disorder  \\\n",
       "3                             0.0                   0.0                 1.0   \n",
       "4                             0.0                   1.0                 0.0   \n",
       "5                             1.0                   1.0                 1.0   \n",
       "6                             1.0                   0.0                 0.0   \n",
       "7                             0.0                   1.0                 0.0   \n",
       "..                            ...                   ...                 ...   \n",
       "497                           1.0                   0.0                 1.0   \n",
       "498                           1.0                   0.0                 1.0   \n",
       "499                           0.0                   0.0                 0.0   \n",
       "500                           0.0                   0.0                 0.0   \n",
       "501                           0.0                   0.0                 0.0   \n",
       "\n",
       "     bad words  put things in mouth  ...  focused  speaking  diagnosis_ADHD  \\\n",
       "3          0.0                  0.0  ...        1         1               0   \n",
       "4          0.0                  0.0  ...        1         0               0   \n",
       "5          1.0                  0.0  ...        1         1               0   \n",
       "6          0.0                  0.0  ...        1         1               0   \n",
       "7          0.0                  0.0  ...        1         0               0   \n",
       "..         ...                  ...  ...      ...       ...             ...   \n",
       "497        0.0                  0.0  ...        0         1               0   \n",
       "498        0.0                  0.0  ...        0         1               0   \n",
       "499        0.0                  0.0  ...        1         1               0   \n",
       "500        0.0                  0.0  ...        1         1               0   \n",
       "501        0.0                  0.0  ...        1         1               0   \n",
       "\n",
       "     diagnosis_Autizm  diagnosis_DLD  diagnosis_Hyperactive diagnosis_MR  \\\n",
       "3                   0              1                      0            0   \n",
       "4                   0              0                      0            0   \n",
       "5                   0              0                      0            0   \n",
       "6                   0              0                      0            0   \n",
       "7                   0              0                      0            0   \n",
       "..                ...            ...                    ...          ...   \n",
       "497                 0              0                      0            0   \n",
       "498                 0              0                      0            0   \n",
       "499                 0              0                      1            0   \n",
       "500                 0              0                      1            0   \n",
       "501                 0              0                      1            0   \n",
       "\n",
       "    diagnosis_PROBLEM IN ARTICULATION diagnosis_Problem Behavior  \\\n",
       "3                                   0                          0   \n",
       "4                                   0                          0   \n",
       "5                                   0                          1   \n",
       "6                                   1                          0   \n",
       "7                                   0                          0   \n",
       "..                                ...                        ...   \n",
       "497                                 1                          0   \n",
       "498                                 1                          0   \n",
       "499                                 0                          0   \n",
       "500                                 0                          0   \n",
       "501                                 0                          0   \n",
       "\n",
       "    diagnosis_Stuttering  \n",
       "3                      0  \n",
       "4                      1  \n",
       "5                      0  \n",
       "6                      0  \n",
       "7                      1  \n",
       "..                   ...  \n",
       "497                    0  \n",
       "498                    0  \n",
       "499                    0  \n",
       "500                    0  \n",
       "501                    0  \n",
       "\n",
       "[499 rows x 32 columns]"
      ]
     },
     "execution_count": 70,
     "metadata": {},
     "output_type": "execute_result"
    }
   ],
   "source": [
    "one_hot_encoded_data = pd.get_dummies(df, columns = ['diagnosis'])\n",
    "one_hot_encoded_data"
   ]
  },
  {
   "cell_type": "markdown",
   "id": "dd1aa6e5",
   "metadata": {},
   "source": [
    "--------------------------------------------------------------------------------------------------------------------------------"
   ]
  },
  {
   "cell_type": "code",
   "execution_count": 152,
   "id": "cc913b96",
   "metadata": {},
   "outputs": [
    {
     "data": {
      "text/plain": [
       "array([2, 7, 6, 5, 1, 4, 0, 3])"
      ]
     },
     "execution_count": 152,
     "metadata": {},
     "output_type": "execute_result"
    }
   ],
   "source": [
    "# Import label encoder\n",
    "from sklearn import preprocessing\n",
    "\n",
    "# label_encoder object knows how to understand word labels.\n",
    "label_encoder = preprocessing.LabelEncoder()\n",
    "\n",
    "# Encode labels in column 'species'.\n",
    "df['diagnosis']= label_encoder.fit_transform(df['diagnosis'])\n",
    "\n",
    "df['diagnosis'].unique()\n"
   ]
  },
  {
   "cell_type": "code",
   "execution_count": 153,
   "id": "45944445",
   "metadata": {},
   "outputs": [
    {
     "data": {
      "text/html": [
       "<div>\n",
       "<style scoped>\n",
       "    .dataframe tbody tr th:only-of-type {\n",
       "        vertical-align: middle;\n",
       "    }\n",
       "\n",
       "    .dataframe tbody tr th {\n",
       "        vertical-align: top;\n",
       "    }\n",
       "\n",
       "    .dataframe thead th {\n",
       "        text-align: right;\n",
       "    }\n",
       "</style>\n",
       "<table border=\"1\" class=\"dataframe\">\n",
       "  <thead>\n",
       "    <tr style=\"text-align: right;\">\n",
       "      <th></th>\n",
       "      <th>age</th>\n",
       "      <th>diagnosis</th>\n",
       "      <th>first word</th>\n",
       "      <th>simple words</th>\n",
       "      <th>potty trained</th>\n",
       "      <th>no body language and signals</th>\n",
       "      <th>Sounds and syllables</th>\n",
       "      <th>attention disorder</th>\n",
       "      <th>bad words</th>\n",
       "      <th>put things in mouth</th>\n",
       "      <th>...</th>\n",
       "      <th>understands</th>\n",
       "      <th>moods</th>\n",
       "      <th>movement</th>\n",
       "      <th>moody with no eye contact</th>\n",
       "      <th>impulsive with no eye contact</th>\n",
       "      <th>elongation</th>\n",
       "      <th>focused</th>\n",
       "      <th>speaking</th>\n",
       "      <th>gender_female</th>\n",
       "      <th>gender_male</th>\n",
       "    </tr>\n",
       "  </thead>\n",
       "  <tbody>\n",
       "    <tr>\n",
       "      <th>3</th>\n",
       "      <td>9.0</td>\n",
       "      <td>2</td>\n",
       "      <td>0.0</td>\n",
       "      <td>0.0</td>\n",
       "      <td>1.0</td>\n",
       "      <td>0.0</td>\n",
       "      <td>0.0</td>\n",
       "      <td>1.0</td>\n",
       "      <td>0.0</td>\n",
       "      <td>0.0</td>\n",
       "      <td>...</td>\n",
       "      <td>1</td>\n",
       "      <td>0</td>\n",
       "      <td>1</td>\n",
       "      <td>1</td>\n",
       "      <td>1</td>\n",
       "      <td>1</td>\n",
       "      <td>1</td>\n",
       "      <td>1</td>\n",
       "      <td>0</td>\n",
       "      <td>1</td>\n",
       "    </tr>\n",
       "    <tr>\n",
       "      <th>4</th>\n",
       "      <td>4.0</td>\n",
       "      <td>7</td>\n",
       "      <td>1.0</td>\n",
       "      <td>1.0</td>\n",
       "      <td>1.0</td>\n",
       "      <td>0.0</td>\n",
       "      <td>1.0</td>\n",
       "      <td>0.0</td>\n",
       "      <td>0.0</td>\n",
       "      <td>0.0</td>\n",
       "      <td>...</td>\n",
       "      <td>1</td>\n",
       "      <td>1</td>\n",
       "      <td>1</td>\n",
       "      <td>1</td>\n",
       "      <td>1</td>\n",
       "      <td>1</td>\n",
       "      <td>1</td>\n",
       "      <td>0</td>\n",
       "      <td>0</td>\n",
       "      <td>1</td>\n",
       "    </tr>\n",
       "    <tr>\n",
       "      <th>5</th>\n",
       "      <td>8.0</td>\n",
       "      <td>6</td>\n",
       "      <td>1.0</td>\n",
       "      <td>1.0</td>\n",
       "      <td>1.0</td>\n",
       "      <td>1.0</td>\n",
       "      <td>1.0</td>\n",
       "      <td>1.0</td>\n",
       "      <td>1.0</td>\n",
       "      <td>0.0</td>\n",
       "      <td>...</td>\n",
       "      <td>1</td>\n",
       "      <td>1</td>\n",
       "      <td>1</td>\n",
       "      <td>0</td>\n",
       "      <td>1</td>\n",
       "      <td>0</td>\n",
       "      <td>1</td>\n",
       "      <td>1</td>\n",
       "      <td>1</td>\n",
       "      <td>0</td>\n",
       "    </tr>\n",
       "    <tr>\n",
       "      <th>6</th>\n",
       "      <td>2.8</td>\n",
       "      <td>5</td>\n",
       "      <td>1.0</td>\n",
       "      <td>0.0</td>\n",
       "      <td>0.0</td>\n",
       "      <td>1.0</td>\n",
       "      <td>0.0</td>\n",
       "      <td>0.0</td>\n",
       "      <td>0.0</td>\n",
       "      <td>0.0</td>\n",
       "      <td>...</td>\n",
       "      <td>0</td>\n",
       "      <td>1</td>\n",
       "      <td>0</td>\n",
       "      <td>1</td>\n",
       "      <td>1</td>\n",
       "      <td>1</td>\n",
       "      <td>1</td>\n",
       "      <td>1</td>\n",
       "      <td>0</td>\n",
       "      <td>1</td>\n",
       "    </tr>\n",
       "    <tr>\n",
       "      <th>7</th>\n",
       "      <td>4.0</td>\n",
       "      <td>7</td>\n",
       "      <td>1.0</td>\n",
       "      <td>1.0</td>\n",
       "      <td>1.0</td>\n",
       "      <td>0.0</td>\n",
       "      <td>1.0</td>\n",
       "      <td>0.0</td>\n",
       "      <td>0.0</td>\n",
       "      <td>0.0</td>\n",
       "      <td>...</td>\n",
       "      <td>1</td>\n",
       "      <td>1</td>\n",
       "      <td>1</td>\n",
       "      <td>1</td>\n",
       "      <td>1</td>\n",
       "      <td>1</td>\n",
       "      <td>1</td>\n",
       "      <td>0</td>\n",
       "      <td>0</td>\n",
       "      <td>1</td>\n",
       "    </tr>\n",
       "    <tr>\n",
       "      <th>...</th>\n",
       "      <td>...</td>\n",
       "      <td>...</td>\n",
       "      <td>...</td>\n",
       "      <td>...</td>\n",
       "      <td>...</td>\n",
       "      <td>...</td>\n",
       "      <td>...</td>\n",
       "      <td>...</td>\n",
       "      <td>...</td>\n",
       "      <td>...</td>\n",
       "      <td>...</td>\n",
       "      <td>...</td>\n",
       "      <td>...</td>\n",
       "      <td>...</td>\n",
       "      <td>...</td>\n",
       "      <td>...</td>\n",
       "      <td>...</td>\n",
       "      <td>...</td>\n",
       "      <td>...</td>\n",
       "      <td>...</td>\n",
       "      <td>...</td>\n",
       "    </tr>\n",
       "    <tr>\n",
       "      <th>497</th>\n",
       "      <td>3.5</td>\n",
       "      <td>5</td>\n",
       "      <td>0.0</td>\n",
       "      <td>0.0</td>\n",
       "      <td>1.0</td>\n",
       "      <td>1.0</td>\n",
       "      <td>0.0</td>\n",
       "      <td>1.0</td>\n",
       "      <td>0.0</td>\n",
       "      <td>0.0</td>\n",
       "      <td>...</td>\n",
       "      <td>1</td>\n",
       "      <td>1</td>\n",
       "      <td>1</td>\n",
       "      <td>1</td>\n",
       "      <td>1</td>\n",
       "      <td>1</td>\n",
       "      <td>0</td>\n",
       "      <td>1</td>\n",
       "      <td>0</td>\n",
       "      <td>1</td>\n",
       "    </tr>\n",
       "    <tr>\n",
       "      <th>498</th>\n",
       "      <td>3.5</td>\n",
       "      <td>5</td>\n",
       "      <td>0.0</td>\n",
       "      <td>0.0</td>\n",
       "      <td>1.0</td>\n",
       "      <td>1.0</td>\n",
       "      <td>0.0</td>\n",
       "      <td>1.0</td>\n",
       "      <td>0.0</td>\n",
       "      <td>0.0</td>\n",
       "      <td>...</td>\n",
       "      <td>1</td>\n",
       "      <td>1</td>\n",
       "      <td>1</td>\n",
       "      <td>1</td>\n",
       "      <td>1</td>\n",
       "      <td>1</td>\n",
       "      <td>0</td>\n",
       "      <td>1</td>\n",
       "      <td>0</td>\n",
       "      <td>1</td>\n",
       "    </tr>\n",
       "    <tr>\n",
       "      <th>499</th>\n",
       "      <td>4.0</td>\n",
       "      <td>3</td>\n",
       "      <td>0.0</td>\n",
       "      <td>0.0</td>\n",
       "      <td>0.0</td>\n",
       "      <td>0.0</td>\n",
       "      <td>0.0</td>\n",
       "      <td>0.0</td>\n",
       "      <td>0.0</td>\n",
       "      <td>0.0</td>\n",
       "      <td>...</td>\n",
       "      <td>1</td>\n",
       "      <td>1</td>\n",
       "      <td>1</td>\n",
       "      <td>1</td>\n",
       "      <td>1</td>\n",
       "      <td>1</td>\n",
       "      <td>1</td>\n",
       "      <td>1</td>\n",
       "      <td>0</td>\n",
       "      <td>1</td>\n",
       "    </tr>\n",
       "    <tr>\n",
       "      <th>500</th>\n",
       "      <td>4.0</td>\n",
       "      <td>3</td>\n",
       "      <td>0.0</td>\n",
       "      <td>0.0</td>\n",
       "      <td>0.0</td>\n",
       "      <td>0.0</td>\n",
       "      <td>0.0</td>\n",
       "      <td>0.0</td>\n",
       "      <td>0.0</td>\n",
       "      <td>0.0</td>\n",
       "      <td>...</td>\n",
       "      <td>1</td>\n",
       "      <td>1</td>\n",
       "      <td>1</td>\n",
       "      <td>1</td>\n",
       "      <td>1</td>\n",
       "      <td>1</td>\n",
       "      <td>1</td>\n",
       "      <td>1</td>\n",
       "      <td>0</td>\n",
       "      <td>1</td>\n",
       "    </tr>\n",
       "    <tr>\n",
       "      <th>501</th>\n",
       "      <td>4.0</td>\n",
       "      <td>3</td>\n",
       "      <td>0.0</td>\n",
       "      <td>0.0</td>\n",
       "      <td>0.0</td>\n",
       "      <td>0.0</td>\n",
       "      <td>0.0</td>\n",
       "      <td>0.0</td>\n",
       "      <td>0.0</td>\n",
       "      <td>0.0</td>\n",
       "      <td>...</td>\n",
       "      <td>1</td>\n",
       "      <td>1</td>\n",
       "      <td>1</td>\n",
       "      <td>1</td>\n",
       "      <td>1</td>\n",
       "      <td>1</td>\n",
       "      <td>1</td>\n",
       "      <td>1</td>\n",
       "      <td>0</td>\n",
       "      <td>1</td>\n",
       "    </tr>\n",
       "  </tbody>\n",
       "</table>\n",
       "<p>499 rows × 26 columns</p>\n",
       "</div>"
      ],
      "text/plain": [
       "     age  diagnosis  first word  simple words  potty trained  \\\n",
       "3    9.0          2         0.0           0.0            1.0   \n",
       "4    4.0          7         1.0           1.0            1.0   \n",
       "5    8.0          6         1.0           1.0            1.0   \n",
       "6    2.8          5         1.0           0.0            0.0   \n",
       "7    4.0          7         1.0           1.0            1.0   \n",
       "..   ...        ...         ...           ...            ...   \n",
       "497  3.5          5         0.0           0.0            1.0   \n",
       "498  3.5          5         0.0           0.0            1.0   \n",
       "499  4.0          3         0.0           0.0            0.0   \n",
       "500  4.0          3         0.0           0.0            0.0   \n",
       "501  4.0          3         0.0           0.0            0.0   \n",
       "\n",
       "     no body language and signals  Sounds and syllables  attention disorder  \\\n",
       "3                             0.0                   0.0                 1.0   \n",
       "4                             0.0                   1.0                 0.0   \n",
       "5                             1.0                   1.0                 1.0   \n",
       "6                             1.0                   0.0                 0.0   \n",
       "7                             0.0                   1.0                 0.0   \n",
       "..                            ...                   ...                 ...   \n",
       "497                           1.0                   0.0                 1.0   \n",
       "498                           1.0                   0.0                 1.0   \n",
       "499                           0.0                   0.0                 0.0   \n",
       "500                           0.0                   0.0                 0.0   \n",
       "501                           0.0                   0.0                 0.0   \n",
       "\n",
       "     bad words  put things in mouth  ...  understands  moods  movement  \\\n",
       "3          0.0                  0.0  ...            1      0         1   \n",
       "4          0.0                  0.0  ...            1      1         1   \n",
       "5          1.0                  0.0  ...            1      1         1   \n",
       "6          0.0                  0.0  ...            0      1         0   \n",
       "7          0.0                  0.0  ...            1      1         1   \n",
       "..         ...                  ...  ...          ...    ...       ...   \n",
       "497        0.0                  0.0  ...            1      1         1   \n",
       "498        0.0                  0.0  ...            1      1         1   \n",
       "499        0.0                  0.0  ...            1      1         1   \n",
       "500        0.0                  0.0  ...            1      1         1   \n",
       "501        0.0                  0.0  ...            1      1         1   \n",
       "\n",
       "     moody with no eye contact  impulsive with no eye contact  elongation  \\\n",
       "3                            1                              1           1   \n",
       "4                            1                              1           1   \n",
       "5                            0                              1           0   \n",
       "6                            1                              1           1   \n",
       "7                            1                              1           1   \n",
       "..                         ...                            ...         ...   \n",
       "497                          1                              1           1   \n",
       "498                          1                              1           1   \n",
       "499                          1                              1           1   \n",
       "500                          1                              1           1   \n",
       "501                          1                              1           1   \n",
       "\n",
       "    focused speaking gender_female gender_male  \n",
       "3         1        1             0           1  \n",
       "4         1        0             0           1  \n",
       "5         1        1             1           0  \n",
       "6         1        1             0           1  \n",
       "7         1        0             0           1  \n",
       "..      ...      ...           ...         ...  \n",
       "497       0        1             0           1  \n",
       "498       0        1             0           1  \n",
       "499       1        1             0           1  \n",
       "500       1        1             0           1  \n",
       "501       1        1             0           1  \n",
       "\n",
       "[499 rows x 26 columns]"
      ]
     },
     "execution_count": 153,
     "metadata": {},
     "output_type": "execute_result"
    }
   ],
   "source": [
    "df = pd.get_dummies(df, columns = ['gender'])\n",
    "df"
   ]
  },
  {
   "cell_type": "code",
   "execution_count": 154,
   "id": "509bc7a3",
   "metadata": {},
   "outputs": [],
   "source": [
    "y = df[\"diagnosis\"].values\n",
    "df = df.drop([\"diagnosis\"],axis = 1)"
   ]
  },
  {
   "cell_type": "code",
   "execution_count": 155,
   "id": "a9d49c76",
   "metadata": {},
   "outputs": [
    {
     "data": {
      "text/plain": [
       "array([ 59,  53, 144,  30,  27,  50,  59,  77], dtype=int64)"
      ]
     },
     "execution_count": 155,
     "metadata": {},
     "output_type": "execute_result"
    }
   ],
   "source": [
    "np.bincount(y)"
   ]
  },
  {
   "cell_type": "markdown",
   "id": "a9cf878c",
   "metadata": {},
   "source": [
    "# SVM"
   ]
  },
  {
   "cell_type": "code",
   "execution_count": 156,
   "id": "864ef955",
   "metadata": {},
   "outputs": [],
   "source": [
    "from sklearn.model_selection import train_test_split\n",
    "X = df.values\n",
    "X_train, X_test, y_train, y_test = train_test_split(X, y, test_size = 0.2, random_state = 0)"
   ]
  },
  {
   "cell_type": "code",
   "execution_count": 157,
   "id": "36fd60f5",
   "metadata": {},
   "outputs": [],
   "source": [
    "from sklearn.svm import SVC\n",
    "from sklearn.metrics import confusion_matrix\n",
    "from sklearn.metrics import accuracy_score\n",
    "svm_model = SVC(kernel = \"linear\", C = 1).fit(X_train, y_train)\n",
    "svm_predictions = svm_model.predict(X_test)\n",
    "\n",
    "accuracy = svm_model.score(X_test,y_test)\n",
    "\n",
    "cm = confusion_matrix(y_test, svm_predictions)\n"
   ]
  },
  {
   "cell_type": "code",
   "execution_count": 158,
   "id": "3654555a",
   "metadata": {},
   "outputs": [
    {
     "data": {
      "text/plain": [
       "array([[ 8,  0,  0,  0,  0,  0,  0,  0],\n",
       "       [ 0, 13,  0,  0,  0,  0,  1,  0],\n",
       "       [ 0,  0, 29,  0,  0,  0,  1,  0],\n",
       "       [ 0,  0,  0,  2,  0,  0,  0,  0],\n",
       "       [ 0,  0,  0,  0,  7,  0,  0,  0],\n",
       "       [ 0,  0,  0,  0,  0, 10,  0,  0],\n",
       "       [ 0,  0,  0,  0,  0,  0, 11,  1],\n",
       "       [ 0,  0,  0,  0,  0,  0,  0, 17]], dtype=int64)"
      ]
     },
     "execution_count": 158,
     "metadata": {},
     "output_type": "execute_result"
    }
   ],
   "source": [
    "cm"
   ]
  },
  {
   "cell_type": "code",
   "execution_count": 159,
   "id": "9643b33d",
   "metadata": {},
   "outputs": [
    {
     "data": {
      "text/plain": [
       "100"
      ]
     },
     "execution_count": 159,
     "metadata": {},
     "output_type": "execute_result"
    }
   ],
   "source": [
    "len(y_test)"
   ]
  },
  {
   "cell_type": "code",
   "execution_count": 160,
   "id": "751ae4a2",
   "metadata": {},
   "outputs": [
    {
     "data": {
      "text/plain": [
       "Text(91.68, 0.5, 'Predicted')"
      ]
     },
     "execution_count": 160,
     "metadata": {},
     "output_type": "execute_result"
    },
    {
     "data": {
      "image/png": "[encoded data removed]",
      "text/plain": [
       "<Figure size 432x288 with 1 Axes>"
      ]
     },
     "metadata": {
      "needs_background": "light"
     },
     "output_type": "display_data"
    }
   ],
   "source": [
    "# from sklearn.metrics import confusion_matrix\n",
    "matrix = confusion_matrix(svm_predictions, y_test)\n",
    "pred = np.unique(svm_predictions)\n",
    "sns.heatmap(matrix, square = True, annot = True, fmt = 'd', cbar = False,\n",
    "            xticklabels = pred, yticklabels = pred)\n",
    "plt.xlabel('Truth')\n",
    "plt.ylabel('Predicted')"
   ]
  },
  {
   "cell_type": "code",
   "execution_count": 204,
   "id": "e1cee018",
   "metadata": {},
   "outputs": [
    {
     "name": "stdout",
     "output_type": "stream",
     "text": [
      "              precision    recall  f1-score   support\n",
      "\n",
      "           0       1.00      1.00      1.00         8\n",
      "           1       1.00      0.93      0.96        14\n",
      "           2       1.00      0.97      0.98        30\n",
      "           3       1.00      1.00      1.00         2\n",
      "           4       1.00      1.00      1.00         7\n",
      "           5       1.00      1.00      1.00        10\n",
      "           6       0.85      0.92      0.88        12\n",
      "           7       0.94      1.00      0.97        17\n",
      "\n",
      "    accuracy                           0.97       100\n",
      "   macro avg       0.97      0.98      0.97       100\n",
      "weighted avg       0.97      0.97      0.97       100\n",
      "\n"
     ]
    }
   ],
   "source": [
    "from sklearn.metrics import classification_report\n",
    "clf_report=classification_report(y_test, svm_predictions)\n",
    "print(clf_report)"
   ]
  },
  {
   "cell_type": "markdown",
   "id": "77527103",
   "metadata": {},
   "source": [
    "# LOGETSIC REGRESION"
   ]
  },
  {
   "cell_type": "code",
   "execution_count": 169,
   "id": "b2bf113b",
   "metadata": {},
   "outputs": [
    {
     "name": "stderr",
     "output_type": "stream",
     "text": [
      "C:\\ProgramData\\Anaconda3\\lib\\site-packages\\sklearn\\linear_model\\_logistic.py:763: ConvergenceWarning: lbfgs failed to converge (status=1):\n",
      "STOP: TOTAL NO. of ITERATIONS REACHED LIMIT.\n",
      "\n",
      "Increase the number of iterations (max_iter) or scale the data as shown in:\n",
      "    https://scikit-learn.org/stable/modules/preprocessing.html\n",
      "Please also refer to the documentation for alternative solver options:\n",
      "    https://scikit-learn.org/stable/modules/linear_model.html#logistic-regression\n",
      "  n_iter_i = _check_optimize_result(\n"
     ]
    },
    {
     "data": {
      "text/plain": [
       "LogisticRegression(random_state=0)"
      ]
     },
     "execution_count": 169,
     "metadata": {},
     "output_type": "execute_result"
    }
   ],
   "source": [
    "from sklearn.linear_model import LogisticRegression\n",
    "classifier = LogisticRegression(random_state = 0)\n",
    "classifier.fit(X_train, y_train)"
   ]
  },
  {
   "cell_type": "code",
   "execution_count": 170,
   "id": "8f2f03e4",
   "metadata": {},
   "outputs": [],
   "source": [
    "y_pred = classifier.predict(X_test)"
   ]
  },
  {
   "cell_type": "code",
   "execution_count": 171,
   "id": "cb91f2a0",
   "metadata": {},
   "outputs": [
    {
     "data": {
      "text/plain": [
       "array([0, 7, 2, 2, 2, 5, 2, 2, 5, 1, 7, 5, 4, 2, 7, 2, 1, 7, 7, 2, 6, 7,\n",
       "       2, 1, 1, 7, 2, 7, 4, 0, 1, 2, 7, 6, 2, 2, 3, 1, 2, 7, 7, 0, 6, 7,\n",
       "       5, 7, 6, 1, 1, 2, 6, 5, 6, 4, 4, 2, 5, 0, 2, 1, 1, 5, 6, 2, 2, 3,\n",
       "       5, 2, 7, 6, 0, 7, 6, 1, 6, 2, 5, 5, 5, 7, 2, 2, 2, 4, 2, 1, 4, 0,\n",
       "       2, 2, 6, 2, 0, 4, 0, 6, 6, 7, 2, 2])"
      ]
     },
     "execution_count": 171,
     "metadata": {},
     "output_type": "execute_result"
    }
   ],
   "source": [
    "y_pred"
   ]
  },
  {
   "cell_type": "code",
   "execution_count": 172,
   "id": "979c0e9e",
   "metadata": {},
   "outputs": [
    {
     "data": {
      "text/plain": [
       "Text(91.68, 0.5, 'Predicted')"
      ]
     },
     "execution_count": 172,
     "metadata": {},
     "output_type": "execute_result"
    },
    {
     "data": {
      "image/png": "[encoded data removed]",
      "text/plain": [
       "<Figure size 432x288 with 1 Axes>"
      ]
     },
     "metadata": {
      "needs_background": "light"
     },
     "output_type": "display_data"
    }
   ],
   "source": [
    "# from sklearn.metrics import confusion_matrix\n",
    "matrix = confusion_matrix(y_pred, y_test)\n",
    "pred = np.unique(y_pred)\n",
    "sns.heatmap(matrix, square = True, annot = True, fmt = 'd', cbar = False,\n",
    "            xticklabels = pred, yticklabels = pred)\n",
    "plt.xlabel('Truth')\n",
    "plt.ylabel('Predicted')"
   ]
  },
  {
   "cell_type": "code",
   "execution_count": 173,
   "id": "972926ff",
   "metadata": {},
   "outputs": [
    {
     "name": "stdout",
     "output_type": "stream",
     "text": [
      "              precision    recall  f1-score   support\n",
      "\n",
      "           0       1.00      1.00      1.00         8\n",
      "           1       1.00      0.86      0.92        14\n",
      "           2       0.97      0.97      0.97        30\n",
      "           3       1.00      1.00      1.00         2\n",
      "           4       1.00      1.00      1.00         7\n",
      "           5       0.91      1.00      0.95        10\n",
      "           6       0.85      0.92      0.88        12\n",
      "           7       1.00      1.00      1.00        17\n",
      "\n",
      "    accuracy                           0.96       100\n",
      "   macro avg       0.97      0.97      0.97       100\n",
      "weighted avg       0.96      0.96      0.96       100\n",
      "\n"
     ]
    }
   ],
   "source": [
    "from sklearn.metrics import classification_report\n",
    "print(classification_report(y_test, y_pred))"
   ]
  },
  {
   "cell_type": "markdown",
   "id": "afc1a51b",
   "metadata": {},
   "source": [
    "# DECSION TREE"
   ]
  },
  {
   "cell_type": "code",
   "execution_count": 180,
   "id": "16f47ddb",
   "metadata": {},
   "outputs": [],
   "source": [
    "from sklearn.tree import DecisionTreeClassifier\n",
    "dtree_model = DecisionTreeClassifier(max_depth = 2).fit(X_train, y_train)\n",
    "dtree_predictions = dtree_model.predict(X_test)\n",
    "\n",
    "# creating a confusion matrix\n",
    "cm = confusion_matrix(y_test, dtree_predictions)\n"
   ]
  },
  {
   "cell_type": "code",
   "execution_count": 181,
   "id": "7dcc8135",
   "metadata": {},
   "outputs": [
    {
     "data": {
      "text/plain": [
       "array([[ 8,  0,  0,  0,  0,  0,  0,  0],\n",
       "       [12,  0,  1,  0,  0,  0,  0,  1],\n",
       "       [ 1,  0, 25,  0,  0,  0,  0,  4],\n",
       "       [ 1,  0,  0,  0,  1,  0,  0,  0],\n",
       "       [ 0,  0,  0,  0,  7,  0,  0,  0],\n",
       "       [ 0,  0,  7,  0,  3,  0,  0,  0],\n",
       "       [11,  0,  1,  0,  0,  0,  0,  0],\n",
       "       [ 0,  0,  0,  0,  0,  0,  0, 17]], dtype=int64)"
      ]
     },
     "execution_count": 181,
     "metadata": {},
     "output_type": "execute_result"
    }
   ],
   "source": [
    "cm"
   ]
  },
  {
   "cell_type": "code",
   "execution_count": 182,
   "id": "856d8375",
   "metadata": {},
   "outputs": [
    {
     "data": {
      "text/plain": [
       "Text(91.68, 0.5, 'Predicted')"
      ]
     },
     "execution_count": 182,
     "metadata": {},
     "output_type": "execute_result"
    },
    {
     "data": {
      "image/png": "[encoded data removed]",
      "text/plain": [
       "<Figure size 432x288 with 1 Axes>"
      ]
     },
     "metadata": {
      "needs_background": "light"
     },
     "output_type": "display_data"
    }
   ],
   "source": [
    "# from sklearn.metrics import confusion_matrix\n",
    "matrix = confusion_matrix(dtree_predictions, y_test)\n",
    "pred = np.unique(dtree_predictions)\n",
    "sns.heatmap(matrix, square = True, annot = True, fmt = 'd', cbar = False,\n",
    "            xticklabels = pred, yticklabels = pred)\n",
    "plt.xlabel('Truth')\n",
    "plt.ylabel('Predicted')"
   ]
  },
  {
   "cell_type": "code",
   "execution_count": 184,
   "id": "9e34e274",
   "metadata": {},
   "outputs": [
    {
     "name": "stdout",
     "output_type": "stream",
     "text": [
      "              precision    recall  f1-score   support\n",
      "\n",
      "           0       0.24      1.00      0.39         8\n",
      "           1       0.00      0.00      0.00        14\n",
      "           2       0.74      0.83      0.78        30\n",
      "           3       0.00      0.00      0.00         2\n",
      "           4       0.64      1.00      0.78         7\n",
      "           5       0.00      0.00      0.00        10\n",
      "           6       0.00      0.00      0.00        12\n",
      "           7       0.77      1.00      0.87        17\n",
      "\n",
      "    accuracy                           0.57       100\n",
      "   macro avg       0.30      0.48      0.35       100\n",
      "weighted avg       0.42      0.57      0.47       100\n",
      "\n"
     ]
    },
    {
     "name": "stderr",
     "output_type": "stream",
     "text": [
      "C:\\ProgramData\\Anaconda3\\lib\\site-packages\\sklearn\\metrics\\_classification.py:1245: UndefinedMetricWarning: Precision and F-score are ill-defined and being set to 0.0 in labels with no predicted samples. Use `zero_division` parameter to control this behavior.\n",
      "  _warn_prf(average, modifier, msg_start, len(result))\n",
      "C:\\ProgramData\\Anaconda3\\lib\\site-packages\\sklearn\\metrics\\_classification.py:1245: UndefinedMetricWarning: Precision and F-score are ill-defined and being set to 0.0 in labels with no predicted samples. Use `zero_division` parameter to control this behavior.\n",
      "  _warn_prf(average, modifier, msg_start, len(result))\n",
      "C:\\ProgramData\\Anaconda3\\lib\\site-packages\\sklearn\\metrics\\_classification.py:1245: UndefinedMetricWarning: Precision and F-score are ill-defined and being set to 0.0 in labels with no predicted samples. Use `zero_division` parameter to control this behavior.\n",
      "  _warn_prf(average, modifier, msg_start, len(result))\n"
     ]
    }
   ],
   "source": [
    "from sklearn.metrics import classification_report\n",
    "print(classification_report(y_test, dtree_predictions))"
   ]
  },
  {
   "cell_type": "markdown",
   "id": "85507040",
   "metadata": {},
   "source": [
    "# Naive Bayes classifier"
   ]
  },
  {
   "cell_type": "code",
   "execution_count": 185,
   "id": "84075009",
   "metadata": {},
   "outputs": [
    {
     "data": {
      "text/plain": [
       "GaussianNB()"
      ]
     },
     "execution_count": 185,
     "metadata": {},
     "output_type": "execute_result"
    }
   ],
   "source": [
    "from sklearn.naive_bayes import GaussianNB\n",
    "model = GaussianNB()\n",
    "model.fit(X_train, y_train)"
   ]
  },
  {
   "cell_type": "code",
   "execution_count": 186,
   "id": "39275f4e",
   "metadata": {},
   "outputs": [],
   "source": [
    "nb_predict = model.predict(X_test)"
   ]
  },
  {
   "cell_type": "code",
   "execution_count": 187,
   "id": "b24ec961",
   "metadata": {},
   "outputs": [
    {
     "data": {
      "text/plain": [
       "array([0, 7, 3, 2, 2, 3, 3, 2, 2, 1, 7, 3, 4, 2, 7, 2, 1, 7, 7, 2, 6, 7,\n",
       "       3, 1, 1, 7, 2, 7, 4, 0, 1, 2, 7, 6, 2, 2, 4, 1, 3, 7, 7, 0, 6, 7,\n",
       "       5, 7, 6, 1, 1, 2, 6, 3, 6, 4, 4, 2, 3, 0, 2, 1, 1, 5, 6, 2, 2, 3,\n",
       "       5, 2, 7, 6, 0, 7, 6, 1, 6, 2, 5, 5, 3, 7, 3, 2, 2, 4, 2, 1, 4, 0,\n",
       "       2, 2, 6, 2, 0, 4, 0, 6, 6, 7, 2, 2])"
      ]
     },
     "execution_count": 187,
     "metadata": {},
     "output_type": "execute_result"
    }
   ],
   "source": [
    "nb_predict"
   ]
  },
  {
   "cell_type": "code",
   "execution_count": 188,
   "id": "64323145",
   "metadata": {},
   "outputs": [
    {
     "data": {
      "text/plain": [
       "Text(91.68, 0.5, 'Predicted')"
      ]
     },
     "execution_count": 188,
     "metadata": {},
     "output_type": "execute_result"
    },
    {
     "data": {
      "image/png": "[encoded data removed]",
      "text/plain": [
       "<Figure size 432x288 with 1 Axes>"
      ]
     },
     "metadata": {
      "needs_background": "light"
     },
     "output_type": "display_data"
    }
   ],
   "source": [
    "matrix = confusion_matrix(nb_predict, y_test)\n",
    "pred = np.unique(nb_predict)\n",
    "sns.heatmap(matrix, square = True, annot = True, fmt = 'd', cbar = False,\n",
    "            xticklabels = pred, yticklabels = pred)\n",
    "plt.xlabel('Truth')\n",
    "plt.ylabel('Predicted')"
   ]
  },
  {
   "cell_type": "code",
   "execution_count": 190,
   "id": "e3df1734",
   "metadata": {},
   "outputs": [
    {
     "name": "stdout",
     "output_type": "stream",
     "text": [
      "              precision    recall  f1-score   support\n",
      "\n",
      "           0       1.00      1.00      1.00         8\n",
      "           1       1.00      0.86      0.92        14\n",
      "           2       0.92      0.80      0.86        30\n",
      "           3       0.09      0.50      0.15         2\n",
      "           4       0.88      1.00      0.93         7\n",
      "           5       1.00      0.50      0.67        10\n",
      "           6       0.85      0.92      0.88        12\n",
      "           7       1.00      1.00      1.00        17\n",
      "\n",
      "    accuracy                           0.85       100\n",
      "   macro avg       0.84      0.82      0.80       100\n",
      "weighted avg       0.93      0.85      0.88       100\n",
      "\n"
     ]
    }
   ],
   "source": [
    "from sklearn.metrics import classification_report\n",
    "print(classification_report(y_test, nb_predict))"
   ]
  },
  {
   "cell_type": "markdown",
   "id": "bde977de",
   "metadata": {},
   "source": [
    "# knn"
   ]
  },
  {
   "cell_type": "code",
   "execution_count": 191,
   "id": "f48ae1ba",
   "metadata": {},
   "outputs": [
    {
     "name": "stdout",
     "output_type": "stream",
     "text": [
      "0.95\n"
     ]
    }
   ],
   "source": [
    "from sklearn.neighbors import KNeighborsClassifier\n",
    "knn = KNeighborsClassifier(n_neighbors = 7).fit(X_train, y_train)\n",
    "\n",
    "# accuracy on X_test\n",
    "accuracy = knn.score(X_test, y_test)\n",
    "print (accuracy)\n",
    "\n",
    "# creating a confusion matrix\n",
    "knn_predictions = knn.predict(X_test)\n",
    "cm = confusion_matrix(y_test, knn_predictions)\n"
   ]
  },
  {
   "cell_type": "code",
   "execution_count": 192,
   "id": "79bbfb6a",
   "metadata": {},
   "outputs": [
    {
     "data": {
      "text/plain": [
       "Text(91.68, 0.5, 'Predicted')"
      ]
     },
     "execution_count": 192,
     "metadata": {},
     "output_type": "execute_result"
    },
    {
     "data": {
      "image/png": "[encoded data removed]",
      "text/plain": [
       "<Figure size 432x288 with 1 Axes>"
      ]
     },
     "metadata": {
      "needs_background": "light"
     },
     "output_type": "display_data"
    }
   ],
   "source": [
    "matrix = confusion_matrix(knn_predictions, y_test)\n",
    "pred = np.unique(knn_predictions)\n",
    "sns.heatmap(matrix, square = True, annot = True, fmt = 'd', cbar = False,\n",
    "            xticklabels = pred, yticklabels = pred)\n",
    "plt.xlabel('Truth')\n",
    "plt.ylabel('Predicted')"
   ]
  },
  {
   "cell_type": "code",
   "execution_count": 193,
   "id": "dce6191e",
   "metadata": {},
   "outputs": [
    {
     "name": "stdout",
     "output_type": "stream",
     "text": [
      "              precision    recall  f1-score   support\n",
      "\n",
      "           0       1.00      1.00      1.00         8\n",
      "           1       1.00      0.86      0.92        14\n",
      "           2       1.00      0.93      0.97        30\n",
      "           3       1.00      1.00      1.00         2\n",
      "           4       1.00      1.00      1.00         7\n",
      "           5       0.83      1.00      0.91        10\n",
      "           6       0.85      0.92      0.88        12\n",
      "           7       0.94      1.00      0.97        17\n",
      "\n",
      "    accuracy                           0.95       100\n",
      "   macro avg       0.95      0.96      0.96       100\n",
      "weighted avg       0.96      0.95      0.95       100\n",
      "\n"
     ]
    }
   ],
   "source": [
    "from sklearn.metrics import classification_report\n",
    "print(classification_report(y_test, knn_predictions))"
   ]
  },
  {
   "cell_type": "code",
   "execution_count": null,
   "id": "045653ea",
   "metadata": {},
   "outputs": [],
   "source": []
  }
 ],
 "metadata": {
  "kernelspec": {
   "display_name": "Python 3",
   "language": "python",
   "name": "python3"
  },
  "language_info": {
   "codemirror_mode": {
    "name": "ipython",
    "version": 3
   },
   "file_extension": ".py",
   "mimetype": "text/x-python",
   "name": "python",
   "nbconvert_exporter": "python",
   "pygments_lexer": "ipython3",
   "version": "3.8.8"
  }
 },
 "nbformat": 4,
 "nbformat_minor": 5
}
